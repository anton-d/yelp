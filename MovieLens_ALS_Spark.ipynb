{
 "cells": [
  {
   "cell_type": "markdown",
   "metadata": {},
   "source": [
    "# Empfehlungs-System basierend auf dem Yelp-Datensatz"
   ]
  },
  {
   "cell_type": "markdown",
   "metadata": {},
   "source": [
    "Dieses Notebook ist vom Notebook Yelp_ALS_Spark.ipynb abgeleitet. Alle Kommentare und Erläuterungen wurden hier entfernt. Bei Fragen zur Funktion der einzelnen Abschnitte ist der Leser auf das genannte Notebook verwiesen."
   ]
  },
  {
   "cell_type": "markdown",
   "metadata": {},
   "source": [
    "## Module importieren und Spark initialisieren"
   ]
  },
  {
   "cell_type": "code",
   "execution_count": 1,
   "metadata": {
    "collapsed": false
   },
   "outputs": [],
   "source": [
    "%load_ext autoreload\n",
    "%autoreload 1"
   ]
  },
  {
   "cell_type": "code",
   "execution_count": 2,
   "metadata": {
    "collapsed": false
   },
   "outputs": [],
   "source": [
    "import json\n",
    "import numpy as np\n",
    "import pandas as pd\n",
    "import time\n",
    "import itertools\n",
    "import os\n",
    "import requests\n",
    "import subprocess\n",
    "from functools import partial\n",
    "\n",
    "import types as python_types\n",
    "import pyspark\n",
    "from pyspark.sql import functions as F, types, SparkSession\n",
    "from pyspark.sql.window import Window\n",
    "from pyspark.ml import Pipeline\n",
    "from pyspark.ml.recommendation import ALS\n",
    "from pyspark.ml.evaluation import RegressionEvaluator\n",
    "from pyspark.ml.tuning import ParamGridBuilder, CrossValidator\n",
    "\n",
    "import pylab as plt\n",
    "import seaborn as sns\n",
    "plt.style.use(\"seaborn-ticks\")\n",
    "sns.set_style(\"ticks\")\n",
    "%matplotlib inline\n",
    "\n",
    "start_time = time.time()"
   ]
  },
  {
   "cell_type": "code",
   "execution_count": 3,
   "metadata": {
    "collapsed": false
   },
   "outputs": [],
   "source": [
    "sc = pyspark.SparkContext(\"local[*]\")\n",
    "sqlc = pyspark.SQLContext(sc)"
   ]
  },
  {
   "cell_type": "code",
   "execution_count": 4,
   "metadata": {
    "collapsed": false
   },
   "outputs": [],
   "source": [
    "%aimport utils"
   ]
  },
  {
   "cell_type": "markdown",
   "metadata": {},
   "source": [
    "## Daten runterladen und extrahieren"
   ]
  },
  {
   "cell_type": "code",
   "execution_count": 5,
   "metadata": {
    "collapsed": false
   },
   "outputs": [],
   "source": [
    "if not os.path.exists(\"data/ml-1m/ratings.dat\"):\n",
    "    r = requests.get(\"http://files.grouplens.org/datasets/movielens/ml-1m.zip\")\n",
    "    with open(\"data/ml-1m.zip\", \"wb\") as f:\n",
    "        f.write(r.content)\n",
    "    subprocess.run([\"unzip\", \"-d\", \"data/\", \"data/ml-1m.zip\"])"
   ]
  },
  {
   "cell_type": "markdown",
   "metadata": {},
   "source": [
    "## Daten einlesen"
   ]
  },
  {
   "cell_type": "code",
   "execution_count": 6,
   "metadata": {
    "collapsed": false
   },
   "outputs": [
    {
     "data": {
      "text/plain": [
       "DataFrame[user: int, item: int, rating: float, date: string]"
      ]
     },
     "execution_count": 6,
     "metadata": {},
     "output_type": "execute_result"
    }
   ],
   "source": [
    "lines = sc.textFile(\"data/ml-1m/ratings.dat\")\n",
    "rows = lines.map(lambda line: tuple(map(int, line.split(\"::\"))))\n",
    "review_df = sqlc.createDataFrame(\n",
    "    rows, [\"user\", \"item\", \"rating\", \"timestamp\"])\n",
    "review_df = review_df.select(\n",
    "    (F.col(\"user\")-1).cast(types.IntegerType()).alias(\"user\"),\n",
    "    (F.col(\"item\")-1).cast(types.IntegerType()).alias(\"item\"), \n",
    "    F.col(\"rating\").cast(types.FloatType()),\n",
    "    F.from_unixtime(\"timestamp\").alias(\"date\")\n",
    ")\n",
    "review_df.cache()"
   ]
  },
  {
   "cell_type": "markdown",
   "metadata": {},
   "source": [
    "## Einige Übersichts-Statistiken"
   ]
  },
  {
   "cell_type": "markdown",
   "metadata": {},
   "source": [
    "### Anzahl der Bewertungen"
   ]
  },
  {
   "cell_type": "code",
   "execution_count": 7,
   "metadata": {
    "collapsed": false
   },
   "outputs": [
    {
     "data": {
      "text/plain": [
       "1000209"
      ]
     },
     "execution_count": 7,
     "metadata": {},
     "output_type": "execute_result"
    }
   ],
   "source": [
    "review_df.count()"
   ]
  },
  {
   "cell_type": "markdown",
   "metadata": {},
   "source": [
    "### Anzahl der User und Items (Nutzer und Geschäfte)"
   ]
  },
  {
   "cell_type": "code",
   "execution_count": 8,
   "metadata": {
    "collapsed": false
   },
   "outputs": [
    {
     "name": "stdout",
     "output_type": "stream",
     "text": [
      "+--------------------+--------------------+----------------------+\n",
      "|count(DISTINCT user)|count(DISTINCT item)|count(DISTINCT rating)|\n",
      "+--------------------+--------------------+----------------------+\n",
      "|                6040|                3706|                     5|\n",
      "+--------------------+--------------------+----------------------+\n",
      "\n"
     ]
    }
   ],
   "source": [
    "review_df.agg(F.countDistinct(\"user\"), F.countDistinct(\"item\"), F.countDistinct(\"rating\")).show()"
   ]
  },
  {
   "cell_type": "markdown",
   "metadata": {},
   "source": [
    "### Verteilung der Werte der Bewertungen"
   ]
  },
  {
   "cell_type": "markdown",
   "metadata": {},
   "source": [
    "Die Wertebereich der Bewertungen ist 1 bis 5 Sterne. Man sieht, dass die Verteilung zu hohen Werten verschoben ist."
   ]
  },
  {
   "cell_type": "code",
   "execution_count": 9,
   "metadata": {
    "collapsed": false
   },
   "outputs": [
    {
     "data": {
      "image/png": "[encoded data removed]",
      "text/plain": [
       "<matplotlib.figure.Figure at 0x7fec888d99b0>"
      ]
     },
     "metadata": {},
     "output_type": "display_data"
    }
   ],
   "source": [
    "bins, counts = (review_df\n",
    "                .select(\"rating\")\n",
    "                .rdd.keys()\n",
    "                .histogram([1,2,3,4,5,6]))\n",
    "\n",
    "utils.plot_histogram(bins, counts, xlabel=\"rating\")\n",
    "plt.savefig(\"plots/movielens_rating_histogram.pdf\", bbox_inches=\"tight\")"
   ]
  },
  {
   "cell_type": "markdown",
   "metadata": {},
   "source": [
    "### Wie viele Bewertungen haben einzelne Items?"
   ]
  },
  {
   "cell_type": "code",
   "execution_count": 10,
   "metadata": {
    "collapsed": false
   },
   "outputs": [
    {
     "data": {
      "image/png": "[encoded data removed]",
      "text/plain": [
       "<matplotlib.figure.Figure at 0x7fec87e38d30>"
      ]
     },
     "metadata": {},
     "output_type": "display_data"
    }
   ],
   "source": [
    "_ = utils.count_reviews(review_df, \"item\")\n",
    "plt.savefig(\"plots/movielens_number_reviews_items.pdf\", bbox_inches=\"tight\")"
   ]
  },
  {
   "cell_type": "markdown",
   "metadata": {},
   "source": [
    "### Wie viele Bewertungen haben einzelne User?"
   ]
  },
  {
   "cell_type": "code",
   "execution_count": 11,
   "metadata": {
    "collapsed": false
   },
   "outputs": [
    {
     "data": {
      "image/png": "[encoded data removed]",
      "text/plain": [
       "<matplotlib.figure.Figure at 0x7fec7cfc2f60>"
      ]
     },
     "metadata": {},
     "output_type": "display_data"
    }
   ],
   "source": [
    "_ = utils.count_reviews(review_df, \"user\")\n",
    "plt.savefig(\"plots/movielens_number_reviews_users.pdf\", bbox_inches=\"tight\")"
   ]
  },
  {
   "cell_type": "markdown",
   "metadata": {},
   "source": [
    "### Verteilung der Bewertungen nach Datum"
   ]
  },
  {
   "cell_type": "code",
   "execution_count": 12,
   "metadata": {
    "collapsed": false
   },
   "outputs": [
    {
     "name": "stdout",
     "output_type": "stream",
     "text": [
      "+-------------------+-------------------+\n",
      "|          min(date)|          max(date)|\n",
      "+-------------------+-------------------+\n",
      "|2000-04-25 23:05:32|2003-02-28 17:49:50|\n",
      "+-------------------+-------------------+\n",
      "\n"
     ]
    }
   ],
   "source": [
    "review_df.agg(F.min(\"date\"), F.max(\"date\")).show()"
   ]
  },
  {
   "cell_type": "code",
   "execution_count": 13,
   "metadata": {
    "collapsed": false
   },
   "outputs": [
    {
     "data": {
      "image/png": "[encoded data removed]",
      "text/plain": [
       "<matplotlib.figure.Figure at 0x7fec7ce4ce48>"
      ]
     },
     "metadata": {},
     "output_type": "display_data"
    }
   ],
   "source": [
    "def get_year(s):\n",
    "    return int(s[:4])\n",
    "\n",
    "bins, counts = (review_df\n",
    "                .select(\"date\")\n",
    "                .rdd.keys()\n",
    "                .map(get_year)\n",
    "                .histogram(list(range(2000, 2004))))\n",
    "\n",
    "utils.plot_histogram(bins, counts, xlabel=\"year of review\")\n",
    "plt.savefig(\"plots/movielens_number_reviews_year.pdf\", bbox_inches=\"tight\")"
   ]
  },
  {
   "cell_type": "markdown",
   "metadata": {},
   "source": [
    "## Datensatz auf Objekte mit eine Mindestanzahl von Bewertungen einschränken"
   ]
  },
  {
   "cell_type": "code",
   "execution_count": 14,
   "metadata": {
    "collapsed": true
   },
   "outputs": [],
   "source": [
    "restrict = True\n",
    "min_user_reviews = 10\n",
    "min_item_reviews = 20"
   ]
  },
  {
   "cell_type": "code",
   "execution_count": 15,
   "metadata": {
    "collapsed": false
   },
   "outputs": [],
   "source": [
    "if restrict:\n",
    "    reviews_per_user = review_df.groupBy(\"user\").agg(F.count(\"rating\").alias(\"user_reviews\"))\n",
    "    reviews_per_item = review_df.groupBy(\"item\").agg(F.count(\"rating\").alias(\"item_reviews\"))\n",
    "    \n",
    "    review_df = (review_df\n",
    "             .join(reviews_per_user, review_df[\"user\"]==reviews_per_user[\"user\"])\n",
    "             .join(reviews_per_item, review_df[\"item\"]==reviews_per_item[\"item\"])\n",
    "             .filter((F.col(\"user_reviews\") >= min_user_reviews) & (F.col(\"item_reviews\") >= min_item_reviews))\n",
    "             .select(review_df[\"user\"], review_df[\"item\"], \"rating\", \"date\")\n",
    "         )\n",
    "    \n",
    "    review_df.cache()"
   ]
  },
  {
   "cell_type": "code",
   "execution_count": 16,
   "metadata": {
    "collapsed": false
   },
   "outputs": [
    {
     "data": {
      "text/plain": [
       "995492"
      ]
     },
     "execution_count": 16,
     "metadata": {},
     "output_type": "execute_result"
    }
   ],
   "source": [
    "review_df.count()"
   ]
  },
  {
   "cell_type": "code",
   "execution_count": 17,
   "metadata": {
    "collapsed": false
   },
   "outputs": [
    {
     "name": "stdout",
     "output_type": "stream",
     "text": [
      "+--------------------+--------------------+----------------------+\n",
      "|count(DISTINCT user)|count(DISTINCT item)|count(DISTINCT rating)|\n",
      "+--------------------+--------------------+----------------------+\n",
      "|                6040|                3043|                     5|\n",
      "+--------------------+--------------------+----------------------+\n",
      "\n"
     ]
    }
   ],
   "source": [
    "review_df.agg(F.countDistinct(\"user\"), F.countDistinct(\"item\"), F.countDistinct(\"rating\")).show()"
   ]
  },
  {
   "cell_type": "markdown",
   "metadata": {},
   "source": [
    "## Training-Test-Split für Kreuzvalidierung"
   ]
  },
  {
   "cell_type": "code",
   "execution_count": 18,
   "metadata": {
    "collapsed": false
   },
   "outputs": [
    {
     "data": {
      "text/plain": [
       "DataFrame[user: int, item: int, rating: float, date: string]"
      ]
     },
     "execution_count": 18,
     "metadata": {},
     "output_type": "execute_result"
    }
   ],
   "source": [
    "train, test = review_df.randomSplit([0.75,0.25], seed=42)\n",
    "train.cache()\n",
    "test.cache()"
   ]
  },
  {
   "cell_type": "code",
   "execution_count": 19,
   "metadata": {
    "collapsed": true
   },
   "outputs": [],
   "source": [
    "rmse = RegressionEvaluator(metricName=\"rmse\", labelCol=\"rating\")"
   ]
  },
  {
   "cell_type": "markdown",
   "metadata": {},
   "source": [
    "## Trivialer Prädiktor"
   ]
  },
  {
   "cell_type": "code",
   "execution_count": 20,
   "metadata": {
    "collapsed": false
   },
   "outputs": [
    {
     "data": {
      "text/plain": [
       "3.583727381290264"
      ]
     },
     "execution_count": 20,
     "metadata": {},
     "output_type": "execute_result"
    }
   ],
   "source": [
    "average_rating = train.agg(F.mean(\"rating\")).first()[0]\n",
    "average_rating"
   ]
  },
  {
   "cell_type": "code",
   "execution_count": 21,
   "metadata": {
    "collapsed": false
   },
   "outputs": [
    {
     "data": {
      "text/plain": [
       "1.1151348345776522"
      ]
     },
     "execution_count": 21,
     "metadata": {},
     "output_type": "execute_result"
    }
   ],
   "source": [
    "rmse.evaluate(test.withColumn(\"prediction\", F.lit(average_rating)))"
   ]
  },
  {
   "cell_type": "markdown",
   "metadata": {},
   "source": [
    "## Collaborative Filtering mit Matrix-Faktorisierung"
   ]
  },
  {
   "cell_type": "markdown",
   "metadata": {},
   "source": [
    "### Parameterscan und Hilfsfunktionen"
   ]
  },
  {
   "cell_type": "code",
   "execution_count": 22,
   "metadata": {
    "collapsed": true
   },
   "outputs": [],
   "source": [
    "def fillna(df, val, col=\"prediction\"):\n",
    "    return df.fillna(val, col)\n",
    "\n",
    "fillna_mean = partial(fillna, val=average_rating)\n",
    "fillna_zero = partial(fillna, val=0.0)\n",
    "\n",
    "restrict_range = F.udf(lambda r: min(max(r,1.),5.), types.FloatType())\n",
    "\n",
    "def restrict_output(df, col=\"prediction\"):\n",
    "    return df.withColumn(col, restrict_range(col))"
   ]
  },
  {
   "cell_type": "code",
   "execution_count": 23,
   "metadata": {
    "collapsed": true
   },
   "outputs": [],
   "source": [
    "def parameter_scan(estimator_factory, parameters, pre=(), post=(), save=None, load=False,\n",
    "                   test=test, train=train):\n",
    "    if load and save and os.path.exists(save):\n",
    "        scores = pd.read_pickle(save)\n",
    "        return scores\n",
    "    \n",
    "    scores = []\n",
    "    \n",
    "    train_ = train\n",
    "    for p in pre:\n",
    "        train_ = p(train_)\n",
    "    \n",
    "    for param_set in itertools.product(*parameters.values()):\n",
    "        param_set = dict(zip(parameters.keys(), param_set))\n",
    "        estimator = estimator_factory(**param_set)\n",
    "        \n",
    "        model = estimator.fit(train_)\n",
    "        pred_train = model.transform(train)\n",
    "        pred_test = model.transform(test)\n",
    "                \n",
    "        for p in post:\n",
    "            pred_train = p(pred_train)\n",
    "            pred_test = p(pred_test)\n",
    "\n",
    "        rmse_train = rmse.evaluate(pred_train)\n",
    "        rmse_test = rmse.evaluate(pred_test)\n",
    "        \n",
    "        score = param_set\n",
    "        score[\"rmse_train\"] = rmse_train\n",
    "        score[\"rmse_test\"] = rmse_test\n",
    "        scores.append(score)\n",
    "        \n",
    "    scores = pd.DataFrame(scores)\n",
    "    \n",
    "    if save:\n",
    "        scores.to_pickle(save)\n",
    "        \n",
    "    return scores"
   ]
  },
  {
   "cell_type": "markdown",
   "metadata": {},
   "source": [
    "## Meta-Parameter Optimierung des ALS"
   ]
  },
  {
   "cell_type": "markdown",
   "metadata": {},
   "source": [
    "### Abhängigkeit von maxIter"
   ]
  },
  {
   "cell_type": "code",
   "execution_count": 24,
   "metadata": {
    "collapsed": false
   },
   "outputs": [
    {
     "name": "stdout",
     "output_type": "stream",
     "text": [
      "CPU times: user 332 ms, sys: 132 ms, total: 464 ms\n",
      "Wall time: 2min 53s\n"
     ]
    }
   ],
   "source": [
    "%%time\n",
    "parameters = dict(maxIter=[5,10,20,30], regParam=[0.1], rank=[10])\n",
    "postprocessing = [fillna_mean, restrict_output]\n",
    "scores = parameter_scan(ALS, parameters, post=postprocessing, \n",
    "                        save=\"cv_maxiter.pkl\")"
   ]
  },
  {
   "cell_type": "code",
   "execution_count": 25,
   "metadata": {
    "collapsed": false
   },
   "outputs": [
    {
     "data": {
      "text/html": [
       "<div>\n",
       "<table border=\"1\" class=\"dataframe\">\n",
       "  <thead>\n",
       "    <tr style=\"text-align: right;\">\n",
       "      <th></th>\n",
       "      <th>maxIter</th>\n",
       "      <th>rank</th>\n",
       "      <th>regParam</th>\n",
       "      <th>rmse_test</th>\n",
       "      <th>rmse_train</th>\n",
       "    </tr>\n",
       "  </thead>\n",
       "  <tbody>\n",
       "    <tr>\n",
       "      <th>0</th>\n",
       "      <td>5</td>\n",
       "      <td>10</td>\n",
       "      <td>0.1</td>\n",
       "      <td>0.878672</td>\n",
       "      <td>0.830653</td>\n",
       "    </tr>\n",
       "    <tr>\n",
       "      <th>1</th>\n",
       "      <td>10</td>\n",
       "      <td>10</td>\n",
       "      <td>0.1</td>\n",
       "      <td>0.866174</td>\n",
       "      <td>0.814229</td>\n",
       "    </tr>\n",
       "    <tr>\n",
       "      <th>2</th>\n",
       "      <td>20</td>\n",
       "      <td>10</td>\n",
       "      <td>0.1</td>\n",
       "      <td>0.860696</td>\n",
       "      <td>0.807774</td>\n",
       "    </tr>\n",
       "    <tr>\n",
       "      <th>3</th>\n",
       "      <td>30</td>\n",
       "      <td>10</td>\n",
       "      <td>0.1</td>\n",
       "      <td>0.859556</td>\n",
       "      <td>0.806356</td>\n",
       "    </tr>\n",
       "  </tbody>\n",
       "</table>\n",
       "</div>"
      ],
      "text/plain": [
       "   maxIter  rank  regParam  rmse_test  rmse_train\n",
       "0        5    10       0.1   0.878672    0.830653\n",
       "1       10    10       0.1   0.866174    0.814229\n",
       "2       20    10       0.1   0.860696    0.807774\n",
       "3       30    10       0.1   0.859556    0.806356"
      ]
     },
     "execution_count": 25,
     "metadata": {},
     "output_type": "execute_result"
    }
   ],
   "source": [
    "scores"
   ]
  },
  {
   "cell_type": "markdown",
   "metadata": {},
   "source": [
    "### Abhängigkeit von regParam und rank"
   ]
  },
  {
   "cell_type": "code",
   "execution_count": 26,
   "metadata": {
    "collapsed": false
   },
   "outputs": [
    {
     "name": "stdout",
     "output_type": "stream",
     "text": [
      "CPU times: user 852 ms, sys: 416 ms, total: 1.27 s\n",
      "Wall time: 8min 32s\n"
     ]
    }
   ],
   "source": [
    "%%time\n",
    "parameters = dict(regParam=[0.025, 0.05, 0.1, 0.25], \n",
    "                  rank=[5, 10, 20],\n",
    "                  maxIter=[20])\n",
    "postprocessing = [fillna_mean, restrict_output]\n",
    "scores = parameter_scan(ALS, parameters, post=postprocessing,\n",
    "                        save=\"cv_reg_rank.pkl\")"
   ]
  },
  {
   "cell_type": "code",
   "execution_count": 27,
   "metadata": {
    "collapsed": false
   },
   "outputs": [
    {
     "data": {
      "text/html": [
       "<div>\n",
       "<table border=\"1\" class=\"dataframe\">\n",
       "  <thead>\n",
       "    <tr style=\"text-align: right;\">\n",
       "      <th></th>\n",
       "      <th>maxIter</th>\n",
       "      <th>rank</th>\n",
       "      <th>regParam</th>\n",
       "      <th>rmse_test</th>\n",
       "      <th>rmse_train</th>\n",
       "    </tr>\n",
       "  </thead>\n",
       "  <tbody>\n",
       "    <tr>\n",
       "      <th>0</th>\n",
       "      <td>20</td>\n",
       "      <td>5</td>\n",
       "      <td>0.025</td>\n",
       "      <td>0.865374</td>\n",
       "      <td>0.807816</td>\n",
       "    </tr>\n",
       "    <tr>\n",
       "      <th>1</th>\n",
       "      <td>20</td>\n",
       "      <td>10</td>\n",
       "      <td>0.025</td>\n",
       "      <td>0.865719</td>\n",
       "      <td>0.748389</td>\n",
       "    </tr>\n",
       "    <tr>\n",
       "      <th>2</th>\n",
       "      <td>20</td>\n",
       "      <td>20</td>\n",
       "      <td>0.025</td>\n",
       "      <td>0.889738</td>\n",
       "      <td>0.667517</td>\n",
       "    </tr>\n",
       "    <tr>\n",
       "      <th>3</th>\n",
       "      <td>20</td>\n",
       "      <td>5</td>\n",
       "      <td>0.050</td>\n",
       "      <td>0.863707</td>\n",
       "      <td>0.814929</td>\n",
       "    </tr>\n",
       "    <tr>\n",
       "      <th>4</th>\n",
       "      <td>20</td>\n",
       "      <td>10</td>\n",
       "      <td>0.050</td>\n",
       "      <td>0.854340</td>\n",
       "      <td>0.764180</td>\n",
       "    </tr>\n",
       "    <tr>\n",
       "      <th>5</th>\n",
       "      <td>20</td>\n",
       "      <td>20</td>\n",
       "      <td>0.050</td>\n",
       "      <td>0.859902</td>\n",
       "      <td>0.702760</td>\n",
       "    </tr>\n",
       "    <tr>\n",
       "      <th>6</th>\n",
       "      <td>20</td>\n",
       "      <td>5</td>\n",
       "      <td>0.100</td>\n",
       "      <td>0.870612</td>\n",
       "      <td>0.835700</td>\n",
       "    </tr>\n",
       "    <tr>\n",
       "      <th>7</th>\n",
       "      <td>20</td>\n",
       "      <td>10</td>\n",
       "      <td>0.100</td>\n",
       "      <td>0.860696</td>\n",
       "      <td>0.807774</td>\n",
       "    </tr>\n",
       "    <tr>\n",
       "      <th>8</th>\n",
       "      <td>20</td>\n",
       "      <td>20</td>\n",
       "      <td>0.100</td>\n",
       "      <td>0.859810</td>\n",
       "      <td>0.787768</td>\n",
       "    </tr>\n",
       "    <tr>\n",
       "      <th>9</th>\n",
       "      <td>20</td>\n",
       "      <td>5</td>\n",
       "      <td>0.250</td>\n",
       "      <td>0.934574</td>\n",
       "      <td>0.922153</td>\n",
       "    </tr>\n",
       "    <tr>\n",
       "      <th>10</th>\n",
       "      <td>20</td>\n",
       "      <td>10</td>\n",
       "      <td>0.250</td>\n",
       "      <td>0.934424</td>\n",
       "      <td>0.921991</td>\n",
       "    </tr>\n",
       "    <tr>\n",
       "      <th>11</th>\n",
       "      <td>20</td>\n",
       "      <td>20</td>\n",
       "      <td>0.250</td>\n",
       "      <td>0.934687</td>\n",
       "      <td>0.922263</td>\n",
       "    </tr>\n",
       "  </tbody>\n",
       "</table>\n",
       "</div>"
      ],
      "text/plain": [
       "    maxIter  rank  regParam  rmse_test  rmse_train\n",
       "0        20     5     0.025   0.865374    0.807816\n",
       "1        20    10     0.025   0.865719    0.748389\n",
       "2        20    20     0.025   0.889738    0.667517\n",
       "3        20     5     0.050   0.863707    0.814929\n",
       "4        20    10     0.050   0.854340    0.764180\n",
       "5        20    20     0.050   0.859902    0.702760\n",
       "6        20     5     0.100   0.870612    0.835700\n",
       "7        20    10     0.100   0.860696    0.807774\n",
       "8        20    20     0.100   0.859810    0.787768\n",
       "9        20     5     0.250   0.934574    0.922153\n",
       "10       20    10     0.250   0.934424    0.921991\n",
       "11       20    20     0.250   0.934687    0.922263"
      ]
     },
     "execution_count": 27,
     "metadata": {},
     "output_type": "execute_result"
    }
   ],
   "source": [
    "scores"
   ]
  },
  {
   "cell_type": "code",
   "execution_count": 28,
   "metadata": {
    "collapsed": false
   },
   "outputs": [
    {
     "data": {
      "image/png": "[encoded data removed]",
      "text/plain": [
       "<matplotlib.figure.Figure at 0x7fec84070f28>"
      ]
     },
     "metadata": {},
     "output_type": "display_data"
    }
   ],
   "source": [
    "sns.factorplot(data=utils.concat_for_seaborn(scores), sharey=False, x=\"regParam\", y=\"rmse\", \n",
    "               hue=\"rank\", col=\"dataset\", col_order=[\"test\", \"train\"])\n",
    "plt.savefig(\"plots/movielens_scan_reg_rank_plain_als.pdf\", bbox_inches=\"tight\")"
   ]
  },
  {
   "cell_type": "markdown",
   "metadata": {},
   "source": [
    "## Daten um den Mittelwert bereinigen und an die Residuen fitten"
   ]
  },
  {
   "cell_type": "code",
   "execution_count": 29,
   "metadata": {
    "collapsed": true
   },
   "outputs": [],
   "source": [
    "def subtract_mean(df, mean=average_rating, col=\"rating\"):\n",
    "    return df.withColumn(col, F.col(col) - mean)\n",
    "\n",
    "def add_mean(df, mean=average_rating, col=\"prediction\"):\n",
    "    return df.withColumn(col, F.col(col) + mean)"
   ]
  },
  {
   "cell_type": "code",
   "execution_count": 30,
   "metadata": {
    "collapsed": false
   },
   "outputs": [
    {
     "name": "stdout",
     "output_type": "stream",
     "text": [
      "CPU times: user 908 ms, sys: 352 ms, total: 1.26 s\n",
      "Wall time: 8min 19s\n"
     ]
    }
   ],
   "source": [
    "%%time\n",
    "parameters = dict(regParam=[0.025, 0.05, 0.1, 0.25], \n",
    "                  rank=[5, 10, 20],\n",
    "                  maxIter=[20])\n",
    "preprocessing = [subtract_mean]\n",
    "postprocessing = [fillna_zero, add_mean, restrict_output]\n",
    "scores = parameter_scan(ALS, parameters, pre=preprocessing, post=postprocessing,\n",
    "                        save=\"cv_reg_rank_residual.pkl\")"
   ]
  },
  {
   "cell_type": "code",
   "execution_count": 31,
   "metadata": {
    "collapsed": false
   },
   "outputs": [
    {
     "data": {
      "text/html": [
       "<div>\n",
       "<table border=\"1\" class=\"dataframe\">\n",
       "  <thead>\n",
       "    <tr style=\"text-align: right;\">\n",
       "      <th></th>\n",
       "      <th>maxIter</th>\n",
       "      <th>rank</th>\n",
       "      <th>regParam</th>\n",
       "      <th>rmse_test</th>\n",
       "      <th>rmse_train</th>\n",
       "    </tr>\n",
       "  </thead>\n",
       "  <tbody>\n",
       "    <tr>\n",
       "      <th>0</th>\n",
       "      <td>20</td>\n",
       "      <td>5</td>\n",
       "      <td>0.025</td>\n",
       "      <td>0.865012</td>\n",
       "      <td>0.807944</td>\n",
       "    </tr>\n",
       "    <tr>\n",
       "      <th>1</th>\n",
       "      <td>20</td>\n",
       "      <td>10</td>\n",
       "      <td>0.025</td>\n",
       "      <td>0.869371</td>\n",
       "      <td>0.749907</td>\n",
       "    </tr>\n",
       "    <tr>\n",
       "      <th>2</th>\n",
       "      <td>20</td>\n",
       "      <td>20</td>\n",
       "      <td>0.025</td>\n",
       "      <td>0.896336</td>\n",
       "      <td>0.670214</td>\n",
       "    </tr>\n",
       "    <tr>\n",
       "      <th>3</th>\n",
       "      <td>20</td>\n",
       "      <td>5</td>\n",
       "      <td>0.050</td>\n",
       "      <td>0.864719</td>\n",
       "      <td>0.815948</td>\n",
       "    </tr>\n",
       "    <tr>\n",
       "      <th>4</th>\n",
       "      <td>20</td>\n",
       "      <td>10</td>\n",
       "      <td>0.050</td>\n",
       "      <td>0.859444</td>\n",
       "      <td>0.767168</td>\n",
       "    </tr>\n",
       "    <tr>\n",
       "      <th>5</th>\n",
       "      <td>20</td>\n",
       "      <td>20</td>\n",
       "      <td>0.050</td>\n",
       "      <td>0.867195</td>\n",
       "      <td>0.705946</td>\n",
       "    </tr>\n",
       "    <tr>\n",
       "      <th>6</th>\n",
       "      <td>20</td>\n",
       "      <td>5</td>\n",
       "      <td>0.100</td>\n",
       "      <td>0.876118</td>\n",
       "      <td>0.841121</td>\n",
       "    </tr>\n",
       "    <tr>\n",
       "      <th>7</th>\n",
       "      <td>20</td>\n",
       "      <td>10</td>\n",
       "      <td>0.100</td>\n",
       "      <td>0.869840</td>\n",
       "      <td>0.816566</td>\n",
       "    </tr>\n",
       "    <tr>\n",
       "      <th>8</th>\n",
       "      <td>20</td>\n",
       "      <td>20</td>\n",
       "      <td>0.100</td>\n",
       "      <td>0.867896</td>\n",
       "      <td>0.794735</td>\n",
       "    </tr>\n",
       "    <tr>\n",
       "      <th>9</th>\n",
       "      <td>20</td>\n",
       "      <td>5</td>\n",
       "      <td>0.250</td>\n",
       "      <td>0.951156</td>\n",
       "      <td>0.941052</td>\n",
       "    </tr>\n",
       "    <tr>\n",
       "      <th>10</th>\n",
       "      <td>20</td>\n",
       "      <td>10</td>\n",
       "      <td>0.250</td>\n",
       "      <td>0.951147</td>\n",
       "      <td>0.941032</td>\n",
       "    </tr>\n",
       "    <tr>\n",
       "      <th>11</th>\n",
       "      <td>20</td>\n",
       "      <td>20</td>\n",
       "      <td>0.250</td>\n",
       "      <td>0.951141</td>\n",
       "      <td>0.941022</td>\n",
       "    </tr>\n",
       "  </tbody>\n",
       "</table>\n",
       "</div>"
      ],
      "text/plain": [
       "    maxIter  rank  regParam  rmse_test  rmse_train\n",
       "0        20     5     0.025   0.865012    0.807944\n",
       "1        20    10     0.025   0.869371    0.749907\n",
       "2        20    20     0.025   0.896336    0.670214\n",
       "3        20     5     0.050   0.864719    0.815948\n",
       "4        20    10     0.050   0.859444    0.767168\n",
       "5        20    20     0.050   0.867195    0.705946\n",
       "6        20     5     0.100   0.876118    0.841121\n",
       "7        20    10     0.100   0.869840    0.816566\n",
       "8        20    20     0.100   0.867896    0.794735\n",
       "9        20     5     0.250   0.951156    0.941052\n",
       "10       20    10     0.250   0.951147    0.941032\n",
       "11       20    20     0.250   0.951141    0.941022"
      ]
     },
     "execution_count": 31,
     "metadata": {},
     "output_type": "execute_result"
    }
   ],
   "source": [
    "scores"
   ]
  },
  {
   "cell_type": "code",
   "execution_count": 32,
   "metadata": {
    "collapsed": false
   },
   "outputs": [
    {
     "data": {
      "image/png": "[encoded data removed]",
      "text/plain": [
       "<matplotlib.figure.Figure at 0x7fec84061898>"
      ]
     },
     "metadata": {},
     "output_type": "display_data"
    }
   ],
   "source": [
    "sns.factorplot(data=utils.concat_for_seaborn(scores), sharey=False, x=\"regParam\", y=\"rmse\", \n",
    "               hue=\"rank\", col=\"dataset\", col_order=[\"test\", \"train\"])\n",
    "plt.savefig(\"plots/movielens_scan_reg_rank_mu_als.pdf\", bbox_inches=\"tight\")"
   ]
  },
  {
   "cell_type": "markdown",
   "metadata": {},
   "source": [
    "### User- und Itembias Vektoren"
   ]
  },
  {
   "cell_type": "code",
   "execution_count": 33,
   "metadata": {
    "collapsed": false
   },
   "outputs": [
    {
     "name": "stdout",
     "output_type": "stream",
     "text": [
      "+----+-------------------+\n",
      "|user|          user_bias|\n",
      "+----+-------------------+\n",
      "| 148| 0.3984948409319582|\n",
      "| 463|-0.0755306599787886|\n",
      "|1088|0.45263625507337224|\n",
      "|1238|0.28951205532945457|\n",
      "|1591|0.02153577660447281|\n",
      "+----+-------------------+\n",
      "only showing top 5 rows\n",
      "\n"
     ]
    }
   ],
   "source": [
    "user_bias = train.groupBy(\"user\").agg((F.mean(\"rating\") - average_rating).alias(\"user_bias\"))\n",
    "user_bias.cache()\n",
    "item_bias = train.groupBy(\"item\").agg((F.mean(\"rating\") - average_rating).alias(\"item_bias\"))\n",
    "item_bias.cache()\n",
    "user_bias.show(5)"
   ]
  },
  {
   "cell_type": "code",
   "execution_count": 34,
   "metadata": {
    "collapsed": true
   },
   "outputs": [],
   "source": [
    "test_pred = (test\n",
    " .join(user_bias, \"user\", how=\"left\")\n",
    " .join(item_bias, \"item\", how=\"left\")\n",
    " .na.fill(0.0, [\"user_bias\", \"item_bias\"])\n",
    " .select(\"user\", \"item\", \"rating\", \n",
    "         (F.lit(average_rating) + F.col(\"user_bias\") + F.col(\"item_bias\")).alias(\"prediction\"))\n",
    "    )"
   ]
  },
  {
   "cell_type": "code",
   "execution_count": 35,
   "metadata": {
    "collapsed": false
   },
   "outputs": [
    {
     "data": {
      "text/plain": [
       "0.9342364918974136"
      ]
     },
     "execution_count": 35,
     "metadata": {},
     "output_type": "execute_result"
    }
   ],
   "source": [
    "rmse.evaluate(test_pred)"
   ]
  },
  {
   "cell_type": "markdown",
   "metadata": {},
   "source": [
    "##### Einschränken des Output-Wertebereiches bringt Verbesserung"
   ]
  },
  {
   "cell_type": "code",
   "execution_count": 36,
   "metadata": {
    "collapsed": false
   },
   "outputs": [
    {
     "data": {
      "text/plain": [
       "0.9331458111852411"
      ]
     },
     "execution_count": 36,
     "metadata": {},
     "output_type": "execute_result"
    }
   ],
   "source": [
    "rmse.evaluate(restrict_output(test_pred))"
   ]
  },
  {
   "cell_type": "markdown",
   "metadata": {},
   "source": [
    "### Daten um Mittelwert und Bias-Vektoren bereinigen"
   ]
  },
  {
   "cell_type": "code",
   "execution_count": 37,
   "metadata": {
    "collapsed": false
   },
   "outputs": [],
   "source": [
    "def subtract_mean_and_biases(df, user_bias=user_bias, item_bias=item_bias, \n",
    "                             mean=average_rating, col=\"rating\"):\n",
    "    df = (df\n",
    "          .join(user_bias, \"user\", how=\"left\")\n",
    "          .join(item_bias, \"item\", how=\"left\")\n",
    "          .withColumn(col, F.col(col) - mean - F.col(\"user_bias\") - F.col(\"item_bias\"))\n",
    "         )\n",
    "    return df\n",
    "\n",
    "def add_mean_and_biases(df, user_bias=user_bias, item_bias=item_bias, \n",
    "                        mean=average_rating, col=\"prediction\"):\n",
    "    assert col == \"prediction\"\n",
    "    df = (df\n",
    "          .join(user_bias, \"user\", how=\"left\")\n",
    "          .join(item_bias, \"item\", how=\"left\")\n",
    "          .na.fill(0.0, [\"user_bias\", \"item_bias\", \"prediction\"])\n",
    "          .withColumn(\"prediction\", mean + F.col(\"user_bias\") + F.col(\"item_bias\") + F.col(\"prediction\"))\n",
    "         )\n",
    "    return df"
   ]
  },
  {
   "cell_type": "code",
   "execution_count": 38,
   "metadata": {
    "collapsed": false,
    "scrolled": true
   },
   "outputs": [
    {
     "name": "stdout",
     "output_type": "stream",
     "text": [
      "CPU times: user 1.05 s, sys: 412 ms, total: 1.46 s\n",
      "Wall time: 9min 3s\n"
     ]
    }
   ],
   "source": [
    "%%time\n",
    "parameters = dict(regParam=[0.025, 0.05, 0.1, 0.25], \n",
    "                  rank=[5, 10, 20],\n",
    "                  maxIter=[20])\n",
    "preprocessing = [subtract_mean_and_biases]\n",
    "postprocessing = [fillna_zero, add_mean_and_biases, restrict_output]\n",
    "scores = parameter_scan(ALS, parameters, pre=preprocessing, post=postprocessing, \n",
    "                        save=\"cv_reg_rank_residual2.pkl\")"
   ]
  },
  {
   "cell_type": "code",
   "execution_count": 39,
   "metadata": {
    "collapsed": false
   },
   "outputs": [
    {
     "data": {
      "text/html": [
       "<div>\n",
       "<table border=\"1\" class=\"dataframe\">\n",
       "  <thead>\n",
       "    <tr style=\"text-align: right;\">\n",
       "      <th></th>\n",
       "      <th>maxIter</th>\n",
       "      <th>rank</th>\n",
       "      <th>regParam</th>\n",
       "      <th>rmse_test</th>\n",
       "      <th>rmse_train</th>\n",
       "    </tr>\n",
       "  </thead>\n",
       "  <tbody>\n",
       "    <tr>\n",
       "      <th>0</th>\n",
       "      <td>20</td>\n",
       "      <td>5</td>\n",
       "      <td>0.025</td>\n",
       "      <td>0.870266</td>\n",
       "      <td>0.806352</td>\n",
       "    </tr>\n",
       "    <tr>\n",
       "      <th>1</th>\n",
       "      <td>20</td>\n",
       "      <td>10</td>\n",
       "      <td>0.025</td>\n",
       "      <td>0.875664</td>\n",
       "      <td>0.749949</td>\n",
       "    </tr>\n",
       "    <tr>\n",
       "      <th>2</th>\n",
       "      <td>20</td>\n",
       "      <td>20</td>\n",
       "      <td>0.025</td>\n",
       "      <td>0.901520</td>\n",
       "      <td>0.671546</td>\n",
       "    </tr>\n",
       "    <tr>\n",
       "      <th>3</th>\n",
       "      <td>20</td>\n",
       "      <td>5</td>\n",
       "      <td>0.050</td>\n",
       "      <td>0.868560</td>\n",
       "      <td>0.814729</td>\n",
       "    </tr>\n",
       "    <tr>\n",
       "      <th>4</th>\n",
       "      <td>20</td>\n",
       "      <td>10</td>\n",
       "      <td>0.050</td>\n",
       "      <td>0.864971</td>\n",
       "      <td>0.767729</td>\n",
       "    </tr>\n",
       "    <tr>\n",
       "      <th>5</th>\n",
       "      <td>20</td>\n",
       "      <td>20</td>\n",
       "      <td>0.050</td>\n",
       "      <td>0.871375</td>\n",
       "      <td>0.707659</td>\n",
       "    </tr>\n",
       "    <tr>\n",
       "      <th>6</th>\n",
       "      <td>20</td>\n",
       "      <td>5</td>\n",
       "      <td>0.100</td>\n",
       "      <td>0.876862</td>\n",
       "      <td>0.839878</td>\n",
       "    </tr>\n",
       "    <tr>\n",
       "      <th>7</th>\n",
       "      <td>20</td>\n",
       "      <td>10</td>\n",
       "      <td>0.100</td>\n",
       "      <td>0.871062</td>\n",
       "      <td>0.816579</td>\n",
       "    </tr>\n",
       "    <tr>\n",
       "      <th>8</th>\n",
       "      <td>20</td>\n",
       "      <td>20</td>\n",
       "      <td>0.100</td>\n",
       "      <td>0.869881</td>\n",
       "      <td>0.795964</td>\n",
       "    </tr>\n",
       "    <tr>\n",
       "      <th>9</th>\n",
       "      <td>20</td>\n",
       "      <td>5</td>\n",
       "      <td>0.250</td>\n",
       "      <td>0.928516</td>\n",
       "      <td>0.916430</td>\n",
       "    </tr>\n",
       "    <tr>\n",
       "      <th>10</th>\n",
       "      <td>20</td>\n",
       "      <td>10</td>\n",
       "      <td>0.250</td>\n",
       "      <td>0.928420</td>\n",
       "      <td>0.916310</td>\n",
       "    </tr>\n",
       "    <tr>\n",
       "      <th>11</th>\n",
       "      <td>20</td>\n",
       "      <td>20</td>\n",
       "      <td>0.250</td>\n",
       "      <td>0.928430</td>\n",
       "      <td>0.916323</td>\n",
       "    </tr>\n",
       "  </tbody>\n",
       "</table>\n",
       "</div>"
      ],
      "text/plain": [
       "    maxIter  rank  regParam  rmse_test  rmse_train\n",
       "0        20     5     0.025   0.870266    0.806352\n",
       "1        20    10     0.025   0.875664    0.749949\n",
       "2        20    20     0.025   0.901520    0.671546\n",
       "3        20     5     0.050   0.868560    0.814729\n",
       "4        20    10     0.050   0.864971    0.767729\n",
       "5        20    20     0.050   0.871375    0.707659\n",
       "6        20     5     0.100   0.876862    0.839878\n",
       "7        20    10     0.100   0.871062    0.816579\n",
       "8        20    20     0.100   0.869881    0.795964\n",
       "9        20     5     0.250   0.928516    0.916430\n",
       "10       20    10     0.250   0.928420    0.916310\n",
       "11       20    20     0.250   0.928430    0.916323"
      ]
     },
     "execution_count": 39,
     "metadata": {},
     "output_type": "execute_result"
    }
   ],
   "source": [
    "scores"
   ]
  },
  {
   "cell_type": "code",
   "execution_count": 40,
   "metadata": {
    "collapsed": false
   },
   "outputs": [
    {
     "data": {
      "image/png": "[encoded data removed]",
      "text/plain": [
       "<matplotlib.figure.Figure at 0x7fec7cd1b438>"
      ]
     },
     "metadata": {},
     "output_type": "display_data"
    }
   ],
   "source": [
    "sns.factorplot(data=utils.concat_for_seaborn(scores), sharey=False, x=\"regParam\", y=\"rmse\", \n",
    "               hue=\"rank\", col=\"dataset\", col_order=[\"test\", \"train\"])\n",
    "plt.savefig(\"plots/movielens_scan_reg_rank_mu_bias_als.pdf\", bbox_inches=\"tight\")"
   ]
  },
  {
   "cell_type": "markdown",
   "metadata": {},
   "source": [
    "### Nochmaliger Scan von maxIter"
   ]
  },
  {
   "cell_type": "code",
   "execution_count": 41,
   "metadata": {
    "collapsed": false
   },
   "outputs": [
    {
     "name": "stdout",
     "output_type": "stream",
     "text": [
      "CPU times: user 400 ms, sys: 176 ms, total: 576 ms\n",
      "Wall time: 3min\n"
     ]
    }
   ],
   "source": [
    "%%time\n",
    "parameters = dict(regParam=[0.05], \n",
    "                  rank=[10],\n",
    "                  maxIter=[5,10,20,30])\n",
    "preprocessing = [subtract_mean_and_biases]\n",
    "postprocessing = [fillna_zero, add_mean_and_biases, restrict_output]\n",
    "scores = parameter_scan(ALS, parameters, pre=preprocessing, post=postprocessing)"
   ]
  },
  {
   "cell_type": "code",
   "execution_count": 42,
   "metadata": {
    "collapsed": false
   },
   "outputs": [
    {
     "data": {
      "text/html": [
       "<div>\n",
       "<table border=\"1\" class=\"dataframe\">\n",
       "  <thead>\n",
       "    <tr style=\"text-align: right;\">\n",
       "      <th></th>\n",
       "      <th>maxIter</th>\n",
       "      <th>rank</th>\n",
       "      <th>regParam</th>\n",
       "      <th>rmse_test</th>\n",
       "      <th>rmse_train</th>\n",
       "    </tr>\n",
       "  </thead>\n",
       "  <tbody>\n",
       "    <tr>\n",
       "      <th>0</th>\n",
       "      <td>5</td>\n",
       "      <td>10</td>\n",
       "      <td>0.05</td>\n",
       "      <td>0.875430</td>\n",
       "      <td>0.780723</td>\n",
       "    </tr>\n",
       "    <tr>\n",
       "      <th>1</th>\n",
       "      <td>10</td>\n",
       "      <td>10</td>\n",
       "      <td>0.05</td>\n",
       "      <td>0.867037</td>\n",
       "      <td>0.770549</td>\n",
       "    </tr>\n",
       "    <tr>\n",
       "      <th>2</th>\n",
       "      <td>20</td>\n",
       "      <td>10</td>\n",
       "      <td>0.05</td>\n",
       "      <td>0.864971</td>\n",
       "      <td>0.767729</td>\n",
       "    </tr>\n",
       "    <tr>\n",
       "      <th>3</th>\n",
       "      <td>30</td>\n",
       "      <td>10</td>\n",
       "      <td>0.05</td>\n",
       "      <td>0.864603</td>\n",
       "      <td>0.767292</td>\n",
       "    </tr>\n",
       "  </tbody>\n",
       "</table>\n",
       "</div>"
      ],
      "text/plain": [
       "   maxIter  rank  regParam  rmse_test  rmse_train\n",
       "0        5    10      0.05   0.875430    0.780723\n",
       "1       10    10      0.05   0.867037    0.770549\n",
       "2       20    10      0.05   0.864971    0.767729\n",
       "3       30    10      0.05   0.864603    0.767292"
      ]
     },
     "execution_count": 42,
     "metadata": {},
     "output_type": "execute_result"
    }
   ],
   "source": [
    "scores"
   ]
  },
  {
   "cell_type": "markdown",
   "metadata": {},
   "source": [
    "## Finaler Test des besten Models"
   ]
  },
  {
   "cell_type": "code",
   "execution_count": 43,
   "metadata": {
    "collapsed": false
   },
   "outputs": [
    {
     "data": {
      "text/plain": [
       "DataFrame[user: int, item: int, rating: float, date: string]"
      ]
     },
     "execution_count": 43,
     "metadata": {},
     "output_type": "execute_result"
    }
   ],
   "source": [
    "train, test = review_df.randomSplit([0.75,0.25], seed=7)\n",
    "train.cache()\n",
    "test.cache()"
   ]
  },
  {
   "cell_type": "code",
   "execution_count": 44,
   "metadata": {
    "collapsed": false
   },
   "outputs": [
    {
     "data": {
      "text/plain": [
       "3.5843235333102155"
      ]
     },
     "execution_count": 44,
     "metadata": {},
     "output_type": "execute_result"
    }
   ],
   "source": [
    "# average needs to be determined again\n",
    "average_rating = train.agg(F.mean(\"rating\")).first()[0]\n",
    "average_rating"
   ]
  },
  {
   "cell_type": "code",
   "execution_count": 45,
   "metadata": {
    "collapsed": false
   },
   "outputs": [
    {
     "name": "stdout",
     "output_type": "stream",
     "text": [
      "+----+-------------------+\n",
      "|user|          user_bias|\n",
      "+----+-------------------+\n",
      "| 148| 0.3258147155377107|\n",
      "|1088|0.49410783923880386|\n",
      "|1238| 0.3079841589974768|\n",
      "|1591|0.08234313335645105|\n",
      "|1959|0.18442646668978435|\n",
      "+----+-------------------+\n",
      "only showing top 5 rows\n",
      "\n"
     ]
    }
   ],
   "source": [
    "# biases need to be determined again\n",
    "user_bias = train.groupBy(\"user\").agg((F.mean(\"rating\") - average_rating).alias(\"user_bias\"))\n",
    "user_bias.cache()\n",
    "item_bias = train.groupBy(\"item\").agg((F.mean(\"rating\") - average_rating).alias(\"item_bias\"))\n",
    "item_bias.cache()\n",
    "user_bias.show(5)"
   ]
  },
  {
   "cell_type": "code",
   "execution_count": 46,
   "metadata": {
    "collapsed": false
   },
   "outputs": [],
   "source": [
    "# insert new average and biases into pre- and post-processing functions\n",
    "subtract_mean_and_biases = partial(subtract_mean_and_biases, \n",
    "                                   user_bias=user_bias, \n",
    "                                   item_bias=item_bias, \n",
    "                                   mean=average_rating)\n",
    "\n",
    "add_mean_and_biases = partial(add_mean_and_biases, \n",
    "                              user_bias=user_bias, \n",
    "                              item_bias=item_bias, \n",
    "                              mean=average_rating)"
   ]
  },
  {
   "cell_type": "code",
   "execution_count": 47,
   "metadata": {
    "collapsed": false
   },
   "outputs": [
    {
     "data": {
      "text/plain": [
       "0.9286287217781842"
      ]
     },
     "execution_count": 47,
     "metadata": {},
     "output_type": "execute_result"
    }
   ],
   "source": [
    "test_pred = (test\n",
    " .join(user_bias, \"user\", how=\"left\")\n",
    " .join(item_bias, \"item\", how=\"left\")\n",
    " .na.fill(0.0, [\"user_bias\", \"item_bias\"])\n",
    " .select(\"user\", \"item\", \"rating\", \n",
    "         (F.lit(average_rating) + F.col(\"user_bias\") + F.col(\"item_bias\")).alias(\"prediction\"))\n",
    "    )\n",
    "\n",
    "rmse.evaluate(restrict_output(test_pred))"
   ]
  },
  {
   "cell_type": "code",
   "execution_count": 48,
   "metadata": {
    "collapsed": false
   },
   "outputs": [
    {
     "data": {
      "text/html": [
       "<div>\n",
       "<table border=\"1\" class=\"dataframe\">\n",
       "  <thead>\n",
       "    <tr style=\"text-align: right;\">\n",
       "      <th></th>\n",
       "      <th>maxIter</th>\n",
       "      <th>rank</th>\n",
       "      <th>regParam</th>\n",
       "      <th>rmse_test</th>\n",
       "      <th>rmse_train</th>\n",
       "    </tr>\n",
       "  </thead>\n",
       "  <tbody>\n",
       "    <tr>\n",
       "      <th>0</th>\n",
       "      <td>20</td>\n",
       "      <td>10</td>\n",
       "      <td>0.05</td>\n",
       "      <td>0.861653</td>\n",
       "      <td>0.768874</td>\n",
       "    </tr>\n",
       "  </tbody>\n",
       "</table>\n",
       "</div>"
      ],
      "text/plain": [
       "   maxIter  rank  regParam  rmse_test  rmse_train\n",
       "0       20    10      0.05   0.861653    0.768874"
      ]
     },
     "execution_count": 48,
     "metadata": {},
     "output_type": "execute_result"
    }
   ],
   "source": [
    "# parameter scan with new train-test-split\n",
    "parameters = dict(regParam=[0.05], rank=[10], maxIter=[20])\n",
    "\n",
    "preprocessing = [subtract_mean_and_biases]\n",
    "postprocessing = [fillna_zero, add_mean_and_biases, restrict_output]\n",
    "\n",
    "score = parameter_scan(ALS, parameters, pre=preprocessing, post=postprocessing, \n",
    "                       test=test, train=train)\n",
    "score"
   ]
  },
  {
   "cell_type": "markdown",
   "metadata": {},
   "source": [
    "## Untersuchung der Fehler der Vorhersagen"
   ]
  },
  {
   "cell_type": "code",
   "execution_count": 49,
   "metadata": {
    "collapsed": false
   },
   "outputs": [],
   "source": [
    "# train ALS with optimal parameters\n",
    "als = ALS(regParam=0.05, rank=10, maxIter=20).fit(subtract_mean_and_biases(train))"
   ]
  },
  {
   "cell_type": "code",
   "execution_count": 50,
   "metadata": {
    "collapsed": true
   },
   "outputs": [],
   "source": [
    "pred_als = als.transform(test)"
   ]
  },
  {
   "cell_type": "markdown",
   "metadata": {},
   "source": [
    "### Verteilung der Korrekturen durch das ALS"
   ]
  },
  {
   "cell_type": "code",
   "execution_count": 51,
   "metadata": {
    "collapsed": true
   },
   "outputs": [],
   "source": [
    "bins, counts = (pred_als\n",
    "                .select(\"prediction\")\n",
    "                .rdd.keys()\n",
    "                .histogram(list(np.linspace(-2,2,30))))"
   ]
  },
  {
   "cell_type": "code",
   "execution_count": 52,
   "metadata": {
    "collapsed": false
   },
   "outputs": [
    {
     "data": {
      "image/png": "[encoded data removed]",
      "text/plain": [
       "<matplotlib.figure.Figure at 0x7fec7ce14ba8>"
      ]
     },
     "metadata": {},
     "output_type": "display_data"
    }
   ],
   "source": [
    "utils.plot_histogram(bins, counts, \"prediction of ALS\", seaborn=False, color=utils.purple)\n",
    "plt.savefig(\"plots/movielens_histogram_als_output.pdf\", bbox_inches=\"tight\")"
   ]
  },
  {
   "cell_type": "markdown",
   "metadata": {},
   "source": [
    "### Verteilung der vorhergesagten und realen Bewertungen"
   ]
  },
  {
   "cell_type": "code",
   "execution_count": 53,
   "metadata": {
    "collapsed": false
   },
   "outputs": [],
   "source": [
    "prediction = \\\n",
    "    restrict_output(\n",
    "        add_mean_and_biases(\n",
    "            fillna_zero(\n",
    "                als.transform(test)))).cache()"
   ]
  },
  {
   "cell_type": "code",
   "execution_count": 54,
   "metadata": {
    "collapsed": true
   },
   "outputs": [],
   "source": [
    "prediction_bias_only = \\\n",
    "    restrict_output(\n",
    "        add_mean_and_biases(\n",
    "            fillna_zero(\n",
    "                test.withColumn(\"prediction\", F.lit(0))))).cache()"
   ]
  },
  {
   "cell_type": "code",
   "execution_count": 55,
   "metadata": {
    "collapsed": true
   },
   "outputs": [],
   "source": [
    "bins = [1,2,3,4,5,6]\n",
    "bins1, count1 = prediction.select(\"prediction\").rdd.keys().histogram(bins)\n",
    "bins2, count2 = prediction_bias_only.select(\"prediction\").rdd.keys().histogram(bins)\n",
    "bins3, count3 = prediction.select(\"rating\").rdd.keys().histogram(bins)"
   ]
  },
  {
   "cell_type": "code",
   "execution_count": 56,
   "metadata": {
    "collapsed": false
   },
   "outputs": [
    {
     "data": {
      "image/png": "[encoded data removed]",
      "text/plain": [
       "<matplotlib.figure.Figure at 0x7fec7cedb5f8>"
      ]
     },
     "metadata": {},
     "output_type": "display_data"
    }
   ],
   "source": [
    "f, axs = plt.subplots(1,3,sharey=True, figsize=(10,3))\n",
    "plt.sca(axs[0])\n",
    "utils.plot_histogram(bins1, count1, \"predicted rating (full model)\", color=utils.purple)\n",
    "plt.sca(axs[1])\n",
    "utils.plot_histogram(bins2, count2, \"predicted rating (biases only)\", color=utils.blue)\n",
    "plt.sca(axs[2])\n",
    "utils.plot_histogram(bins3, count3, \"true rating\", color=utils.green)\n",
    "plt.savefig(\"plots/movielens_histogram_rating_pred_and_true.pdf\", bbox_inches=\"tight\")"
   ]
  },
  {
   "cell_type": "markdown",
   "metadata": {},
   "source": [
    "### Verteilung des Fehler des Vorhersagen"
   ]
  },
  {
   "cell_type": "code",
   "execution_count": 57,
   "metadata": {
    "collapsed": true
   },
   "outputs": [],
   "source": [
    "bins = list(range(-5,7))\n",
    "bins1, count1 = prediction.select(F.col(\"prediction\")-F.col(\"rating\")).rdd.keys().histogram(bins)\n",
    "bins2, count2 = prediction_bias_only.select(F.col(\"prediction\")-F.col(\"rating\")).rdd.keys().histogram(bins)"
   ]
  },
  {
   "cell_type": "code",
   "execution_count": 58,
   "metadata": {
    "collapsed": false
   },
   "outputs": [
    {
     "data": {
      "image/png": "[encoded data removed]",
      "text/plain": [
       "<matplotlib.figure.Figure at 0x7fec7ccf80b8>"
      ]
     },
     "metadata": {},
     "output_type": "display_data"
    }
   ],
   "source": [
    "f, axs = plt.subplots(1,2,sharey=True, figsize=(7,3))\n",
    "plt.sca(axs[0])\n",
    "utils.plot_histogram(bins1, count1, \"prediction-rating (full model)\", color=utils.purple)\n",
    "plt.sca(axs[1])\n",
    "utils.plot_histogram(bins2, count2, \"prediction-rating (biases only)\", color=utils.blue)\n",
    "plt.savefig(\"plots/movielens_histogram_pred_error.pdf\", bbox_inches=\"tight\")"
   ]
  },
  {
   "cell_type": "markdown",
   "metadata": {},
   "source": [
    "## Untersuchung der Vektoren $Q$ und $P$"
   ]
  },
  {
   "cell_type": "code",
   "execution_count": 59,
   "metadata": {
    "collapsed": false
   },
   "outputs": [],
   "source": [
    "vector_lengths_user = als.itemFactors.rdd.map(lambda r: np.sqrt(np.dot(r[1],r[1]))).collect()\n",
    "vector_lengths_item = als.userFactors.rdd.map(lambda r: np.sqrt(np.dot(r[1],r[1]))).collect()"
   ]
  },
  {
   "cell_type": "markdown",
   "metadata": {},
   "source": [
    "### Verteilung der Längen der Vektoren"
   ]
  },
  {
   "cell_type": "code",
   "execution_count": 60,
   "metadata": {
    "collapsed": false
   },
   "outputs": [
    {
     "data": {
      "image/png": "[encoded data removed]",
      "text/plain": [
       "<matplotlib.figure.Figure at 0x7fec7ccb9208>"
      ]
     },
     "metadata": {},
     "output_type": "display_data"
    }
   ],
   "source": [
    "f, axs = plt.subplots(1,2,sharey=True, figsize=(7,3))\n",
    "plt.sca(axs[0])\n",
    "counts, bins = plt.histogram(vector_lengths_item)\n",
    "utils.plot_histogram(bins, counts, \"norm of item vector\", seaborn=False, color=utils.purple)\n",
    "plt.sca(axs[1])\n",
    "counts, bins = plt.histogram(vector_lengths_user)\n",
    "utils.plot_histogram(bins, counts, \"norm of user vector\", seaborn=False, color=utils.green)"
   ]
  },
  {
   "cell_type": "markdown",
   "metadata": {
    "collapsed": true
   },
   "source": [
    "## Gesamte Laufzeit des Notebooks"
   ]
  },
  {
   "cell_type": "code",
   "execution_count": 61,
   "metadata": {
    "collapsed": false
   },
   "outputs": [
    {
     "name": "stdout",
     "output_type": "stream",
     "text": [
      "0.6 hours\n"
     ]
    }
   ],
   "source": [
    "print(\"{:.1f} hours\".format((time.time() - start_time)/3600))"
   ]
  },
  {
   "cell_type": "markdown",
   "metadata": {},
   "source": [
    "Das Notebook wurde auf einem VPS von Digital Ocean ausgeführt, dieser hat 8 (virtuelle) Cores und 16 GB RAM."
   ]
  }
 ],
 "metadata": {
  "kernelspec": {
   "display_name": "Python 3",
   "language": "python",
   "name": "python3"
  },
  "language_info": {
   "codemirror_mode": {
    "name": "ipython",
    "version": 3
   },
   "file_extension": ".py",
   "mimetype": "text/x-python",
   "name": "python",
   "nbconvert_exporter": "python",
   "pygments_lexer": "ipython3",
   "version": "3.5.2"
  }
 },
 "nbformat": 4,
 "nbformat_minor": 1
}
