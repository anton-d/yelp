{
 "cells": [
  {
   "cell_type": "markdown",
   "metadata": {},
   "source": [
    "# Empfehlungs-System basierend auf dem Yelp-Datensatz"
   ]
  },
  {
   "cell_type": "markdown",
   "metadata": {},
   "source": [
    "## Ziel\n",
    "\n",
    "Es soll eine Empfehlungs-System (recommender system) auf dem Yelp-Datensatz trainiert werden. Dieser Datensatz enthält 2,7 Millionen Bewertungen von verschiedensten Geschäften (z.B. Restaurants).\n",
    "\n",
    "Bei Empfehlungs-Systemen zwei grundsätzlich unterschiedliche Ansätze: (a) content based recommendation und (b) collaborative filtering. Bei Ansatz (a) werden die Empfehlungen basierend auf Eigenschaften der Items gemacht (basierend auf ihrem \"content\"). Bei Ansatz (b) wird die Empfehlungs-Historie genutzt, um die Präferenzen der Nutzer und Eigenschaften der Items (in unserem Fall sind das die Geschäfte) abzuleiten und für die Vorhersage zu nutzen.\n",
    "\n",
    "In diesem Notebook wird der Ansatz des collaborative filtering am Yelp-Datensatz ausprobiert. Dazu wird Apache Spark benutzt."
   ]
  },
  {
   "cell_type": "markdown",
   "metadata": {},
   "source": [
    "## Module importieren und Spark initialisieren"
   ]
  },
  {
   "cell_type": "code",
   "execution_count": 1,
   "metadata": {
    "collapsed": false
   },
   "outputs": [],
   "source": [
    "%load_ext autoreload\n",
    "%autoreload 1"
   ]
  },
  {
   "cell_type": "code",
   "execution_count": 2,
   "metadata": {
    "collapsed": false
   },
   "outputs": [],
   "source": [
    "import json\n",
    "import numpy as np\n",
    "import pandas as pd\n",
    "import time\n",
    "import itertools\n",
    "import os\n",
    "from functools import partial\n",
    "\n",
    "import types as python_types\n",
    "import pyspark\n",
    "from pyspark.sql import functions as F, types, SparkSession\n",
    "from pyspark.sql.window import Window\n",
    "from pyspark.ml import Pipeline\n",
    "from pyspark.ml.recommendation import ALS\n",
    "from pyspark.ml.evaluation import RegressionEvaluator\n",
    "from pyspark.ml.tuning import ParamGridBuilder, CrossValidator\n",
    "\n",
    "import pylab as plt\n",
    "import seaborn as sns\n",
    "plt.style.use(\"seaborn-ticks\")\n",
    "sns.set_style(\"ticks\")\n",
    "%matplotlib inline\n",
    "\n",
    "start_time = time.time()"
   ]
  },
  {
   "cell_type": "code",
   "execution_count": 3,
   "metadata": {
    "collapsed": false
   },
   "outputs": [],
   "source": [
    "sc = pyspark.SparkContext(\"local[*]\")\n",
    "sqlc = pyspark.SQLContext(sc)"
   ]
  },
  {
   "cell_type": "code",
   "execution_count": 4,
   "metadata": {
    "collapsed": false
   },
   "outputs": [],
   "source": [
    "%aimport utils"
   ]
  },
  {
   "cell_type": "markdown",
   "metadata": {},
   "source": [
    "## Daten runterladen und extrahieren"
   ]
  },
  {
   "cell_type": "markdown",
   "metadata": {},
   "source": [
    "Der Yelp Datensatz findet sich unter: <br>\n",
    "https://www.yelp.com/dataset_challenge\n",
    "\n",
    "Der Datensatz beinhaltet viele verschiedenen Information, wie Beschreibungen und Kategorisierungen der Geschäfte oder Bewertungen von Geschäften durch die Nutzer von Yelp (im folgenden einfach als User bezeichnet). Für das collaborative filtering sind die Bewertungen von Interessen. Es gibt insgesamt 2,7 Million Bewertungen von von 687 Tausend Nutzern und 86 Tausend Geschäften.\n",
    "\n",
    "Die folgenden Routinen laden den Datensatz runter und extrahieren ihn (falls noch nicht geschehen)."
   ]
  },
  {
   "cell_type": "code",
   "execution_count": 5,
   "metadata": {
    "collapsed": true
   },
   "outputs": [],
   "source": [
    "utils.download_yelp_dataset(skip_when_exists=True)"
   ]
  },
  {
   "cell_type": "code",
   "execution_count": 6,
   "metadata": {
    "collapsed": true
   },
   "outputs": [],
   "source": [
    "utils.extract_yelp_dataset(skip_when_exists=True)"
   ]
  },
  {
   "cell_type": "markdown",
   "metadata": {},
   "source": [
    "## Daten einlesen"
   ]
  },
  {
   "cell_type": "markdown",
   "metadata": {},
   "source": [
    "Die Daten liegen im JSON-Format vor. Jede Zeile in der Datei ist ein JSON-Object. Im folgenden werden die Daten eingelesen."
   ]
  },
  {
   "cell_type": "code",
   "execution_count": 7,
   "metadata": {
    "collapsed": false
   },
   "outputs": [],
   "source": [
    "lines = sc.textFile(\"data/yelp_academic_dataset_review.json\")"
   ]
  },
  {
   "cell_type": "code",
   "execution_count": 8,
   "metadata": {
    "collapsed": true
   },
   "outputs": [],
   "source": [
    "def parse_json(line):\n",
    "    row = json.loads(line)\n",
    "    return (row[\"user_id\"], row[\"business_id\"], row[\"stars\"], row[\"date\"])"
   ]
  },
  {
   "cell_type": "code",
   "execution_count": 9,
   "metadata": {
    "collapsed": false
   },
   "outputs": [],
   "source": [
    "rows = lines.map(parse_json)"
   ]
  },
  {
   "cell_type": "code",
   "execution_count": 10,
   "metadata": {
    "collapsed": false
   },
   "outputs": [],
   "source": [
    "review_df = sqlc.createDataFrame(rows, [\"user\", \"item\", \"rating\", \"date\"])"
   ]
  },
  {
   "cell_type": "code",
   "execution_count": 11,
   "metadata": {
    "collapsed": true
   },
   "outputs": [],
   "source": [
    "review_df = review_df.withColumn(\"rating\", F.col(\"rating\").cast(\"float\"))"
   ]
  },
  {
   "cell_type": "code",
   "execution_count": 12,
   "metadata": {
    "collapsed": false
   },
   "outputs": [
    {
     "data": {
      "text/plain": [
       "DataFrame[user: string, item: string, rating: float, date: string]"
      ]
     },
     "execution_count": 12,
     "metadata": {},
     "output_type": "execute_result"
    }
   ],
   "source": [
    "review_df.cache()"
   ]
  },
  {
   "cell_type": "code",
   "execution_count": 13,
   "metadata": {
    "collapsed": false
   },
   "outputs": [
    {
     "name": "stdout",
     "output_type": "stream",
     "text": [
      "+--------------------+--------------------+------+----------+\n",
      "|                user|                item|rating|      date|\n",
      "+--------------------+--------------------+------+----------+\n",
      "|PUFPaY9KxDAcGqfso...|5UmKMjUEUNdYWqANh...|   4.0|2012-08-01|\n",
      "|Iu6AxdBYGR4A0wspR...|5UmKMjUEUNdYWqANh...|   5.0|2014-02-13|\n",
      "|auESFwWvW42h6alXg...|5UmKMjUEUNdYWqANh...|   5.0|2015-10-31|\n",
      "|qiczib2fO_1VBG8Io...|5UmKMjUEUNdYWqANh...|   3.0|2015-12-26|\n",
      "|qEE5EvV-f-s7yHC0Z...|5UmKMjUEUNdYWqANh...|   2.0|2016-04-08|\n",
      "+--------------------+--------------------+------+----------+\n",
      "only showing top 5 rows\n",
      "\n"
     ]
    }
   ],
   "source": [
    "review_df.show(5)"
   ]
  },
  {
   "cell_type": "markdown",
   "metadata": {},
   "source": [
    "## Einige Übersichts-Statistiken"
   ]
  },
  {
   "cell_type": "markdown",
   "metadata": {},
   "source": [
    "### Anzahl der Bewertungen"
   ]
  },
  {
   "cell_type": "code",
   "execution_count": 14,
   "metadata": {
    "collapsed": false
   },
   "outputs": [
    {
     "data": {
      "text/plain": [
       "2685066"
      ]
     },
     "execution_count": 14,
     "metadata": {},
     "output_type": "execute_result"
    }
   ],
   "source": [
    "review_df.count()"
   ]
  },
  {
   "cell_type": "markdown",
   "metadata": {},
   "source": [
    "### Anzahl der User und Items (Nutzer und Geschäfte)"
   ]
  },
  {
   "cell_type": "code",
   "execution_count": 15,
   "metadata": {
    "collapsed": false
   },
   "outputs": [
    {
     "name": "stdout",
     "output_type": "stream",
     "text": [
      "+--------------------+--------------------+----------------------+\n",
      "|count(DISTINCT user)|count(DISTINCT item)|count(DISTINCT rating)|\n",
      "+--------------------+--------------------+----------------------+\n",
      "|              686556|               85539|                     5|\n",
      "+--------------------+--------------------+----------------------+\n",
      "\n"
     ]
    }
   ],
   "source": [
    "review_df.agg(F.countDistinct(\"user\"), F.countDistinct(\"item\"), F.countDistinct(\"rating\")).show()"
   ]
  },
  {
   "cell_type": "markdown",
   "metadata": {},
   "source": [
    "### Verteilung der Werte der Bewertungen"
   ]
  },
  {
   "cell_type": "markdown",
   "metadata": {},
   "source": [
    "Die Wertebereich der Bewertungen ist 1 bis 5 Sterne. Man sieht, dass die Verteilung zu hohen Werten verschoben ist."
   ]
  },
  {
   "cell_type": "code",
   "execution_count": 16,
   "metadata": {
    "collapsed": false
   },
   "outputs": [
    {
     "data": {
      "image/png": "[encoded data removed]",
      "text/plain": [
       "<matplotlib.figure.Figure at 0x7f930fdfcda0>"
      ]
     },
     "metadata": {},
     "output_type": "display_data"
    }
   ],
   "source": [
    "bins, counts = (review_df\n",
    "                .select(\"rating\")\n",
    "                .rdd.keys()\n",
    "                .histogram([1,2,3,4,5,6]))\n",
    "\n",
    "utils.plot_histogram(bins, counts, xlabel=\"rating\")\n",
    "plt.savefig(\"plots/full_rating_histogram.pdf\", bbox_inches=\"tight\")"
   ]
  },
  {
   "cell_type": "markdown",
   "metadata": {},
   "source": [
    "### Wie viele Bewertungen haben einzelne Items?"
   ]
  },
  {
   "cell_type": "markdown",
   "metadata": {},
   "source": [
    "Das folgene Histogram zeigt die Verteilung der Anzahl der Bewertungen von Items. Das heißt z.B., dass ca. 1% der Items nur eine Bewertung haben (der erste Bin geht von 1 bis 2, wobei die obere Grenze ausgeschlossen ist) und ca. 20% der Items nur 2 bis 3 Bewertungen.\n",
    "\n",
    "Die Grafik rechts zeigt die aufsumierte (cumulative) Verteilung. Man sieht dort, dass ca. 65% aller Items weniger als 10 Bewertungen haben."
   ]
  },
  {
   "cell_type": "code",
   "execution_count": 17,
   "metadata": {
    "collapsed": false
   },
   "outputs": [
    {
     "data": {
      "image/png": "[encoded data removed]",
      "text/plain": [
       "<matplotlib.figure.Figure at 0x7f930fd23630>"
      ]
     },
     "metadata": {},
     "output_type": "display_data"
    }
   ],
   "source": [
    "_ = utils.count_reviews(review_df, \"item\")\n",
    "plt.savefig(\"plots/full_number_reviews_items.pdf\", bbox_inches=\"tight\")"
   ]
  },
  {
   "cell_type": "markdown",
   "metadata": {},
   "source": [
    "### Wie viele Bewertungen haben einzelne User?"
   ]
  },
  {
   "cell_type": "markdown",
   "metadata": {},
   "source": [
    "Die Verteilung der Anzahl der Bewertungen der User ist noch stärker zu wenigen Bewertungen verschoben: ca. 95% der User haben weniger als 10 Bewertungen abgegeben."
   ]
  },
  {
   "cell_type": "code",
   "execution_count": 18,
   "metadata": {
    "collapsed": false
   },
   "outputs": [
    {
     "data": {
      "image/png": "[encoded data removed]",
      "text/plain": [
       "<matplotlib.figure.Figure at 0x7f930700f9b0>"
      ]
     },
     "metadata": {},
     "output_type": "display_data"
    }
   ],
   "source": [
    "_ = utils.count_reviews(review_df, \"user\")\n",
    "plt.savefig(\"plots/full_number_reviews_users.pdf\", bbox_inches=\"tight\")"
   ]
  },
  {
   "cell_type": "markdown",
   "metadata": {},
   "source": [
    "### Verteilung der Bewertungen nach Datum"
   ]
  },
  {
   "cell_type": "markdown",
   "metadata": {},
   "source": [
    "Wir sehen, dass die Bewertungen über einen Zeitraum vom 13 Jahren (2004 bis 2016) verteilt sind. Dabei nimmt die Anzahl der Bewertungen rapide zu."
   ]
  },
  {
   "cell_type": "code",
   "execution_count": 19,
   "metadata": {
    "collapsed": false
   },
   "outputs": [
    {
     "name": "stdout",
     "output_type": "stream",
     "text": [
      "+----------+----------+\n",
      "| min(date)| max(date)|\n",
      "+----------+----------+\n",
      "|2004-10-12|2016-07-19|\n",
      "+----------+----------+\n",
      "\n"
     ]
    }
   ],
   "source": [
    "review_df.agg(F.min(\"date\"), F.max(\"date\")).show()"
   ]
  },
  {
   "cell_type": "code",
   "execution_count": 20,
   "metadata": {
    "collapsed": false
   },
   "outputs": [
    {
     "data": {
      "image/png": "[encoded data removed]",
      "text/plain": [
       "<matplotlib.figure.Figure at 0x7f9306f08278>"
      ]
     },
     "metadata": {},
     "output_type": "display_data"
    }
   ],
   "source": [
    "def get_year(s):\n",
    "    return int(s[:4])\n",
    "\n",
    "bins, counts = (review_df\n",
    "                .select(\"date\")\n",
    "                .rdd.keys()\n",
    "                .map(get_year)\n",
    "                .histogram(list(range(2004, 2017))))\n",
    "\n",
    "utils.plot_histogram(bins, counts, xlabel=\"year of review\")\n",
    "plt.savefig(\"plots/full_number_reviews_year.pdf\", bbox_inches=\"tight\")"
   ]
  },
  {
   "cell_type": "markdown",
   "metadata": {},
   "source": [
    "### Zeitbereich einschränken"
   ]
  },
  {
   "cell_type": "markdown",
   "metadata": {},
   "source": [
    "Für die folgende Analyse beschränken wir uns auf die Bewertungen in der Periode 2011-2015. Dies geschieht, um die Nicht-Stationarität des Problems zu reduzieren. Es ist nämlich wahrscheinlich, dass sich Meinungen und Bewertungen von Geschäften mit der Zeit verändern, z.B. Trend-Wechsel bei Restaurants. Durch das Einschränken vernachlässigen wir nur ca. 10% der Bewertungen, was durchaus akzeptabel."
   ]
  },
  {
   "cell_type": "code",
   "execution_count": 21,
   "metadata": {
    "collapsed": false
   },
   "outputs": [
    {
     "name": "stdout",
     "output_type": "stream",
     "text": [
      "# reviews between 2011 and 2015:  2407455\n",
      "Outside of this range are 10% of reviews\n"
     ]
    }
   ],
   "source": [
    "year = F.udf(get_year, types.IntegerType())\n",
    "n_old = review_df.count()\n",
    "review_df = review_df.filter(year(\"date\")>2010)\n",
    "n_new = review_df.count()\n",
    "print(\"# reviews between 2011 and 2015: \", n_new)\n",
    "print(\"Outside of this range are {:.0f}% of reviews\".format(100*(n_old-n_new)/n_old))"
   ]
  },
  {
   "cell_type": "markdown",
   "metadata": {},
   "source": [
    "### Anmerkung\n",
    "\n",
    "Es gibt Verfahren für Empfehlungs-Systeme, die die Nicht-Stationarität explizit berücksichtigen. Zum Beispiel wurde in [1] gezeigt, dass ein socher Ansatz siginifikante Verbesserungen der Vorhersagequalität liefern kann. Die Anzahl der Parameter dieser Modell e steigt jedoch enorm.\n",
    "\n",
    "[1] Y. Koren, R. Bell, and C. Volinsky. Matrix factorization techniques for recommender systems. Computer, 42(8) 2009 <br>\n",
    "http://www.columbia.edu/~jwp2128/Teaching/W4721/papers/ieeecomputer.pdf"
   ]
  },
  {
   "cell_type": "markdown",
   "metadata": {},
   "source": [
    "## Datensatz auf Objekte mit eine Mindestanzahl von Bewertungen einschränken"
   ]
  },
  {
   "cell_type": "markdown",
   "metadata": {},
   "source": [
    "Beim collaborative filtering werden eigenschaften der Objekte (User und Items) von den Bewertungen abgeleitet. Hat ein Objekt nur wenige Bewertungen, ist zu erwarten, dass diese Ableitung wenig zuverlässig ist. Aus diesem Grund schränken wir im Folgenden den Datensatz auf Items mit mind. 20 und User mit mind. 10 Bewertunen ein. Die Grenzen für Items und User sind unterschiedlich gewählt, da Items generell mehr Bewertungen haben.\n",
    "\n",
    "Durch die Einschränkung reduzieren wir die Anzahl der Bewertungen von 2,4 Million auf 0.9 Millionen. Durch die Einschränkung reduziert sich auch die Anzahl der Items und insbesondere der User (von ca. 686 Tausend auf 43 Tausend).\n",
    "\n",
    "Ob der Datensatz eingeschränkt wird, lässt sich durch die Variable \"restrict\" steuern. Wir werden die Analyse auch ohne diese Einschränkung durchführen."
   ]
  },
  {
   "cell_type": "code",
   "execution_count": 22,
   "metadata": {
    "collapsed": true
   },
   "outputs": [],
   "source": [
    "restrict = False\n",
    "min_user_reviews = 10\n",
    "min_item_reviews = 20"
   ]
  },
  {
   "cell_type": "code",
   "execution_count": 23,
   "metadata": {
    "collapsed": false
   },
   "outputs": [],
   "source": [
    "if restrict:\n",
    "    reviews_per_user = review_df.groupBy(\"user\").agg(F.count(\"rating\").alias(\"user_reviews\"))\n",
    "    reviews_per_item = review_df.groupBy(\"item\").agg(F.count(\"rating\").alias(\"item_reviews\"))\n",
    "    \n",
    "    review_df = (review_df\n",
    "             .join(reviews_per_user, review_df[\"user\"]==reviews_per_user[\"user\"])\n",
    "             .join(reviews_per_item, review_df[\"item\"]==reviews_per_item[\"item\"])\n",
    "             .filter((F.col(\"user_reviews\") >= min_user_reviews) & (F.col(\"item_reviews\") >= min_item_reviews))\n",
    "             .select(review_df[\"user\"], review_df[\"item\"], \"rating\", \"date\")\n",
    "         )\n",
    "    \n",
    "    review_df.cache()"
   ]
  },
  {
   "cell_type": "code",
   "execution_count": 24,
   "metadata": {
    "collapsed": false
   },
   "outputs": [
    {
     "data": {
      "text/plain": [
       "2407455"
      ]
     },
     "execution_count": 24,
     "metadata": {},
     "output_type": "execute_result"
    }
   ],
   "source": [
    "review_df.count()"
   ]
  },
  {
   "cell_type": "code",
   "execution_count": 25,
   "metadata": {
    "collapsed": false
   },
   "outputs": [
    {
     "name": "stdout",
     "output_type": "stream",
     "text": [
      "+--------------------+--------------------+----------------------+\n",
      "|count(DISTINCT user)|count(DISTINCT item)|count(DISTINCT rating)|\n",
      "+--------------------+--------------------+----------------------+\n",
      "|              656121|               83249|                     5|\n",
      "+--------------------+--------------------+----------------------+\n",
      "\n"
     ]
    }
   ],
   "source": [
    "review_df.agg(F.countDistinct(\"user\"), F.countDistinct(\"item\"), F.countDistinct(\"rating\")).show()"
   ]
  },
  {
   "cell_type": "markdown",
   "metadata": {},
   "source": [
    "## IDs numerisch machen"
   ]
  },
  {
   "cell_type": "markdown",
   "metadata": {},
   "source": [
    "Die IDs der Objekte (Items und User) sind Strings. Das Alternating-Least-Squares Verfahren, dass wir im folgenden benutzen wollen, setzt jedoch numerische IDs vorraus. Außerdem hat sich rausgestellt, dass große Sprünge in den IDs zu Problemen führen. Dies schließt z.B. eine Numerierung mit der Spark Funktion \"monotonicallyIncreasingId\" aus.\n",
    "\n",
    "Im Folgenden werden die unique IDs bestimmt und von 0 an kontinuierlich durchnumeriert. Das DataFrame mit den Bewertungen (review_df) wird dann entsprechen angepasst. "
   ]
  },
  {
   "cell_type": "code",
   "execution_count": 26,
   "metadata": {
    "collapsed": true
   },
   "outputs": [],
   "source": [
    "def make_mapping_to_id(df, column):\n",
    "    mapping = (review_df\n",
    "     .select(column)\n",
    "     .distinct()\n",
    "     .rdd\n",
    "     .map(lambda r: r[0])\n",
    "     .zipWithIndex()\n",
    "    )\n",
    "    \n",
    "    mapping = sqlc.createDataFrame(mapping, [column, column + \"_id\"])\n",
    "    mapping = mapping.select(column, F.col(column + \"_id\").cast(types.IntegerType()))\n",
    "    return mapping"
   ]
  },
  {
   "cell_type": "code",
   "execution_count": 27,
   "metadata": {
    "collapsed": false
   },
   "outputs": [],
   "source": [
    "user_mapping = make_mapping_to_id(review_df, \"user\")\n",
    "item_mapping = make_mapping_to_id(review_df, \"item\")"
   ]
  },
  {
   "cell_type": "code",
   "execution_count": 28,
   "metadata": {
    "collapsed": false
   },
   "outputs": [
    {
     "name": "stdout",
     "output_type": "stream",
     "text": [
      "+--------------------+-------+\n",
      "|                item|item_id|\n",
      "+--------------------+-------+\n",
      "|hnHt6EinzC-IX6y3G...|      0|\n",
      "|q_BKmbdlYfQJroJVH...|      1|\n",
      "|1n0n_-Iz0e3iVpH8s...|      2|\n",
      "|XzaJf6WzpU7RsXTXz...|      3|\n",
      "|MAg0VhVZ-zU3Ug7dv...|      4|\n",
      "+--------------------+-------+\n",
      "only showing top 5 rows\n",
      "\n"
     ]
    }
   ],
   "source": [
    "item_mapping.show(5)"
   ]
  },
  {
   "cell_type": "code",
   "execution_count": 29,
   "metadata": {
    "collapsed": false
   },
   "outputs": [],
   "source": [
    "review_df = (review_df\n",
    " .join(item_mapping, review_df.item==item_mapping.item)\n",
    " .join(user_mapping, review_df.user==user_mapping.user)\n",
    " .select(F.col(\"user_id\").alias(\"user\"), F.col(\"item_id\").alias(\"item\"), \"rating\", \"date\")\n",
    " )"
   ]
  },
  {
   "cell_type": "code",
   "execution_count": 30,
   "metadata": {
    "collapsed": false
   },
   "outputs": [
    {
     "name": "stdout",
     "output_type": "stream",
     "text": [
      "+----+-----+------+----------+\n",
      "|user| item|rating|      date|\n",
      "+----+-----+------+----------+\n",
      "| 698| 4891|   5.0|2016-02-16|\n",
      "| 698|62742|   5.0|2014-05-08|\n",
      "| 698|80436|   3.0|2014-05-08|\n",
      "|2600|56515|   5.0|2013-11-24|\n",
      "|2600|68477|   5.0|2015-10-04|\n",
      "+----+-----+------+----------+\n",
      "only showing top 5 rows\n",
      "\n"
     ]
    }
   ],
   "source": [
    "review_df.cache()\n",
    "review_df.show(5)"
   ]
  },
  {
   "cell_type": "code",
   "execution_count": 31,
   "metadata": {
    "collapsed": false
   },
   "outputs": [
    {
     "data": {
      "text/plain": [
       "DataFrame[user: int, item: int, rating: float]"
      ]
     },
     "execution_count": 31,
     "metadata": {},
     "output_type": "execute_result"
    }
   ],
   "source": [
    "review_df_with_date = review_df\n",
    "\n",
    "# drop date column\n",
    "review_df = review_df.select(\"user\", \"item\", \"rating\")\n",
    "review_df.cache()"
   ]
  },
  {
   "cell_type": "markdown",
   "metadata": {},
   "source": [
    "## Training-Test-Split für Kreuzvalidierung"
   ]
  },
  {
   "cell_type": "markdown",
   "metadata": {},
   "source": [
    "Um die wirkliche Performance eines prädiktiven Verfahrens zu ermitteln, ist es sehr wichtig auf einem Datensatz zu ermitteln, den das Verfahren beim Training nicht \"gesehen\" hat. Die Ursache dafür ist, dass bei der Anwendung von Verfahren mit Vielen Parametern, fast immer Overfitting stattfindet. Das Verfahren lernt sozusagen den Datensatz auswendig und lernt keine generalisierbaren Zusammenhänge.\n",
    "\n",
    "Im Folgenden wird der Datensatz in einen Training- und Test-Satz aufgeteilt. Die Vorhersageverfahren werden auf dem Trainings-Satz trainiert und deren Performance auf dem Test-Satz ermittelt. \n",
    "\n",
    "Hier benutzen wir die einfachste Form der Kreuzvalidierung: wir teilen den Datensatz nur einmal auf. Darüber hinaus gibt es fortgeschrittenere Verfahren, z.B. k-fold cross-validation, wobei die Aufteilung mehrmals gemacht und somit die Performance mehrmals ermittelt wird. Dadurch können die statistischen Schwankungen in Abhängigkeit (variance) des Datensatztes bestimmt werden. Bei Tests (die hier nicht gezeigt sind), dass bei dieser Problemstellung die ermittelte Performance kaum bei unterschiedlichen Aufteilungen schwankt (bei einer 4-folg cross-validation lag die maximale Schwankung des RMSE bei ca. 0.003). "
   ]
  },
  {
   "cell_type": "code",
   "execution_count": 32,
   "metadata": {
    "collapsed": false
   },
   "outputs": [
    {
     "data": {
      "text/plain": [
       "DataFrame[user: int, item: int, rating: float]"
      ]
     },
     "execution_count": 32,
     "metadata": {},
     "output_type": "execute_result"
    }
   ],
   "source": [
    "train, test = review_df.randomSplit([0.75,0.25], seed=42)\n",
    "train.cache()\n",
    "test.cache()"
   ]
  },
  {
   "cell_type": "markdown",
   "metadata": {},
   "source": [
    "Die Performance der Vorhersageverfahren messen wir im Folgenden mit dem sog. root-mean-square error:\n",
    "\n",
    "\\begin{equation}\n",
    "RMSE = \\sqrt{\\frac{1}{n}\\sum_{i=1}^{n}{(y_i-\\hat{y}_i)^2}}\n",
    "\\end{equation}\n",
    "\n",
    "Dabei ist sind $y_i$ die zu vorhersagenden Labels und $\\hat{y}_i$ die Vorhersagen. $n$ ist die Größe des Datensatztes auf dem der RMSE ermittelt wird."
   ]
  },
  {
   "cell_type": "code",
   "execution_count": 33,
   "metadata": {
    "collapsed": true
   },
   "outputs": [],
   "source": [
    "rmse = RegressionEvaluator(metricName=\"rmse\", labelCol=\"rating\")"
   ]
  },
  {
   "cell_type": "markdown",
   "metadata": {},
   "source": [
    "## Trivialer Prädiktor"
   ]
  },
  {
   "cell_type": "markdown",
   "metadata": {},
   "source": [
    "Hier wird die Mittelwert $\\mu$ der Bewertungen ermittelt. Damit lassen sich auf eine ganz einfache Weise Vorhesagen tätigen, man sagt stets den Mittelwert vorher, also den *Erwartungswert*. Dieser Wert ist bezüglich des RMSE auch optimal, wenn man stets den selben Wert vorhersagen möchte.\n",
    "\n",
    "Wir sehen, dass bei diesem trivialen Vorhersageverfahren sich ein RMSE von 1.23 ergibt. Dieser Wert soll im Folgenden als Baseline dienen, den jedes kompliziertere Verfahren sollte besser sein (andernfalls kann man das einfachere Verfahren einsetzen)."
   ]
  },
  {
   "cell_type": "code",
   "execution_count": 34,
   "metadata": {
    "collapsed": false
   },
   "outputs": [
    {
     "data": {
      "text/plain": [
       "3.7675431774794634"
      ]
     },
     "execution_count": 34,
     "metadata": {},
     "output_type": "execute_result"
    }
   ],
   "source": [
    "average_rating = train.agg(F.mean(\"rating\")).first()[0]\n",
    "average_rating"
   ]
  },
  {
   "cell_type": "code",
   "execution_count": 35,
   "metadata": {
    "collapsed": false
   },
   "outputs": [
    {
     "data": {
      "text/plain": [
       "1.4110747216252473"
      ]
     },
     "execution_count": 35,
     "metadata": {},
     "output_type": "execute_result"
    }
   ],
   "source": [
    "rmse.evaluate(test.withColumn(\"prediction\", F.lit(average_rating)))"
   ]
  },
  {
   "cell_type": "markdown",
   "metadata": {},
   "source": [
    "## Collaborative Filtering mit Matrix-Faktorisierung"
   ]
  },
  {
   "cell_type": "markdown",
   "metadata": {},
   "source": [
    "In diesem Notebook wollen wir collaborative filltering mittels Matrix-Faktorisierung angehen, siehe z.B. [1]. Bei diesem Ansatz wird die Bewertungsmatrix $R_{ui}$ als Skalarprodukt Vektor modeliert, die die Eigenschaften der Items und die Preferenzen des User darstellen. Die Bewertungsmatrix $R_{ui}$ gibt die Bewertung an, die der User $u$ dem Item $i$ gegeben hat oder geben würde. Mit $\\mathbf{Q}_u$ bezeichnen wir den Vektor, der die Präferenzen des Users $u$ kodiert und mit $\\mathbf{P}_i$ die entsprechenden Eigenschaften des Items $i$. Diese Vektoren sind unbekannt und werden durch das Modell gelernt, d.h. dies ist eine sog. latentes VariablenModell . Auch die Dimension des Vektoren ist unbekannt und ist ein Meta-Parameter des Models.\n",
    "\n",
    "Der Zusammenhang zwischen Bewertungsmatrix $R_{ui}$ und den Item- und User-Vektoren wird wie folgt modeliert:\n",
    "\n",
    "\\begin{equation}\n",
    "R_{ui} = \\mathbf{Q}_u \\cdot \\mathbf{P}_i\n",
    "\\end{equation}\n",
    "\n",
    "Aus den Daten sind nur Teile der Bewertungsmatrix $R_{ui}$ bekannt (wäre sie komplett bekannt, gäbe es nichts Vorrauszusagen). Die Menge der Indexpaare für die die Bewertung bekannt ist, wird im Folgenden mit $K$ bezeichnet. Das Ziel ist es aus den bekannten Bewertungen die Vektoren $\\mathbf{Q}_u$ und $\\mathbf{P}_i$ zu lernen und somit die gesammte Matrix zu rekonstruieren. Zu diesem Zweck optimiert man die folgende Fehlerfunktion:\n",
    "\n",
    "\\begin{equation}\n",
    "J = \\sum_{u,i \\in K}(R_{ui}-\\mathbf{Q}_u \\cdot \\mathbf{P}_i)^2 + \\lambda (\\sum_u n_u\\mathbf{Q}_u^2 + \\sum_i n_i\\mathbf{P}_i^2)\n",
    "\\end{equation}\n",
    "\n",
    "Die gesamte Fehlerfunktion besteht aus der Least-Squares-Fehlerfunktion und einem Regularisierungsterm um Overfitting zu reduzieren. Hierbei sind $n_u$ und $n_i$ die Anzahlen der Bewertungen von User $u$ und Item $i$, siehe [2] für Weiteres.\n",
    "\n",
    "Bei der numerischen Lösung dieser Problemstellung gibt es zwei Ansätze: (a) (stochastic) gradient descent und (b) alternating least squares (ALS). Im Folgenden wollen wir den Ansatz (b) verfolgen, da Spark diese Methode bereits implementiert. Das ALS ist ein iteratives Verfahren. In jedem Schritt hält man $\\mathbf{Q}$ oder $\\mathbf{P}$ fest und löst das Least-Squares-Problem für den entsprechend anderen Vektor (mit $\\mathbf{P}$ und $\\mathbf{Q}$ ohne Indizes ist hier die Gesammtheit der Vektoren gemeint, also eigentlich eine Matrix). Wenn man nämlich immer nur bezüglich eines der beiden Vektoren optimiert ist das Problem analytisch lösbar. Beim ALS wird diese analytische Lösung abwechselnd für $\\mathbf{Q}$ und $\\mathbf{P}$ durchgeführt.\n",
    "\n",
    "[1] Y. Koren, R. Bell, and C. Volinsky. Matrix factorization techniques for recommender systems. Computer, 42(8) 2009 <br>\n",
    "http://www.columbia.edu/~jwp2128/Teaching/W4721/papers/ieeecomputer.pdf\n",
    "\n",
    "[2] Y. Zhou, D. Wilkinson, R. Schreiber, R. Pan. Large-Scale Parallel Collaborative Filtering for the Netflix Prize, Proceedings of the 4th international conference on Algorithmic Aspects in Information and Management (AAIM '08), Springer-Verlag, Berlin, Heidelberg, 337-348. 2008\n"
   ]
  },
  {
   "cell_type": "markdown",
   "metadata": {},
   "source": [
    "### Parameterscan und Hilfsfunktionen"
   ]
  },
  {
   "cell_type": "markdown",
   "metadata": {},
   "source": [
    "Es kann passieren, dass ein User oder ein Item aus dem Test-Satz nicht im Trainings-Satz vorkommt. In diesem Fall ist keine Vorhersage möglich, da die entsprechenden Vektoren ($\\mathbf{Q}_u$ oder $\\mathbf{P}_i$) nicht gelernt wurden. Das ALS Verfahren (im Folgenden wird ALS synonym mit dem Ansatzt der Matrix-Faktorisierung verwendet) liefert in diesen Fällen NaN als Vorhersage. In diesen Fällen sagen wir einfach den Mittelwert $\\mu$ aller Beanstandugen voraus. Die Funktion \"fillna_mean\" macht dies. Außerdem schränkt die Funktion \"restrict_output\" den Wertebereich auf das Interval [1,5] ein. Das Produkt $\\mathbf{Q}_u \\cdot \\mathbf{P}_i$ kann nämlich auch außerhalb dieses Intervals liegen."
   ]
  },
  {
   "cell_type": "code",
   "execution_count": 36,
   "metadata": {
    "collapsed": true
   },
   "outputs": [],
   "source": [
    "def fillna(df, val, col=\"prediction\"):\n",
    "    return df.fillna(val, col)\n",
    "\n",
    "fillna_mean = partial(fillna, val=average_rating)\n",
    "fillna_zero = partial(fillna, val=0.0)\n",
    "\n",
    "restrict_range = F.udf(lambda r: min(max(r,1.),5.), types.FloatType())\n",
    "\n",
    "def restrict_output(df, col=\"prediction\"):\n",
    "    return df.withColumn(col, restrict_range(col))"
   ]
  },
  {
   "cell_type": "markdown",
   "metadata": {},
   "source": [
    "Die Funktion \"parameter_scan\" führt das ALS Verfahren für einen Satz von Meta-Parametern durch und berechnet die Permormance (RMSE) auf dem Training- und Test-Satz. Außerdem führt die Funktion übergebene Pre- und Post-processing-Schritte durch."
   ]
  },
  {
   "cell_type": "code",
   "execution_count": 37,
   "metadata": {
    "collapsed": true
   },
   "outputs": [],
   "source": [
    "def parameter_scan(estimator_factory, parameters, pre=(), post=(), save=None, load=False,\n",
    "                   test=test, train=train):\n",
    "    if load and save and os.path.exists(save):\n",
    "        scores = pd.read_pickle(save)\n",
    "        return scores\n",
    "    \n",
    "    scores = []\n",
    "    \n",
    "    train_ = train\n",
    "    for p in pre:\n",
    "        train_ = p(train_)\n",
    "    \n",
    "    for param_set in itertools.product(*parameters.values()):\n",
    "        param_set = dict(zip(parameters.keys(), param_set))\n",
    "        estimator = estimator_factory(**param_set)\n",
    "        \n",
    "        model = estimator.fit(train_)\n",
    "        pred_train = model.transform(train)\n",
    "        pred_test = model.transform(test)\n",
    "                \n",
    "        for p in post:\n",
    "            pred_train = p(pred_train)\n",
    "            pred_test = p(pred_test)\n",
    "\n",
    "        rmse_train = rmse.evaluate(pred_train)\n",
    "        rmse_test = rmse.evaluate(pred_test)\n",
    "        \n",
    "        score = param_set\n",
    "        score[\"rmse_train\"] = rmse_train\n",
    "        score[\"rmse_test\"] = rmse_test\n",
    "        scores.append(score)\n",
    "        \n",
    "    scores = pd.DataFrame(scores)\n",
    "    \n",
    "    if save:\n",
    "        scores.to_pickle(save)\n",
    "        \n",
    "    return scores"
   ]
  },
  {
   "cell_type": "markdown",
   "metadata": {},
   "source": [
    "## Meta-Parameter Optimierung des ALS"
   ]
  },
  {
   "cell_type": "markdown",
   "metadata": {},
   "source": [
    "Hier sollen einige der Parameter des ALS Verfahrens optimiert werden. Dazu verwenden wir die Funktion \"parameter_scan\". Die relevanten Parameter des Verfahrens sind: \n",
    "\n",
    "- maxIter: maximale Anzahl von ALS Iterationen\n",
    "- regParam: der $\\lambda$ Parameter von Oben\n",
    "- rank: die Dimension der Vektoren $\\mathbf{Q}_u$, $\\mathbf{P}_i$"
   ]
  },
  {
   "cell_type": "markdown",
   "metadata": {},
   "source": [
    "### Abhängigkeit von maxIter"
   ]
  },
  {
   "cell_type": "code",
   "execution_count": 38,
   "metadata": {
    "collapsed": false
   },
   "outputs": [
    {
     "name": "stdout",
     "output_type": "stream",
     "text": [
      "CPU times: user 1.29 s, sys: 488 ms, total: 1.78 s\n",
      "Wall time: 4min 28s\n"
     ]
    }
   ],
   "source": [
    "%%time\n",
    "parameters = dict(maxIter=[5,10,20,30], regParam=[0.1], rank=[10])\n",
    "postprocessing = [fillna_mean, restrict_output]\n",
    "scores = parameter_scan(ALS, parameters, post=postprocessing, \n",
    "                        save=\"cv_maxiter.pkl\")"
   ]
  },
  {
   "cell_type": "code",
   "execution_count": 39,
   "metadata": {
    "collapsed": false
   },
   "outputs": [
    {
     "data": {
      "text/html": [
       "<div>\n",
       "<table border=\"1\" class=\"dataframe\">\n",
       "  <thead>\n",
       "    <tr style=\"text-align: right;\">\n",
       "      <th></th>\n",
       "      <th>maxIter</th>\n",
       "      <th>rank</th>\n",
       "      <th>regParam</th>\n",
       "      <th>rmse_test</th>\n",
       "      <th>rmse_train</th>\n",
       "    </tr>\n",
       "  </thead>\n",
       "  <tbody>\n",
       "    <tr>\n",
       "      <th>0</th>\n",
       "      <td>5</td>\n",
       "      <td>10</td>\n",
       "      <td>0.1</td>\n",
       "      <td>1.831672</td>\n",
       "      <td>0.532088</td>\n",
       "    </tr>\n",
       "    <tr>\n",
       "      <th>1</th>\n",
       "      <td>10</td>\n",
       "      <td>10</td>\n",
       "      <td>0.1</td>\n",
       "      <td>1.642934</td>\n",
       "      <td>0.452906</td>\n",
       "    </tr>\n",
       "    <tr>\n",
       "      <th>2</th>\n",
       "      <td>20</td>\n",
       "      <td>10</td>\n",
       "      <td>0.1</td>\n",
       "      <td>1.560235</td>\n",
       "      <td>0.420251</td>\n",
       "    </tr>\n",
       "    <tr>\n",
       "      <th>3</th>\n",
       "      <td>30</td>\n",
       "      <td>10</td>\n",
       "      <td>0.1</td>\n",
       "      <td>1.544401</td>\n",
       "      <td>0.410532</td>\n",
       "    </tr>\n",
       "  </tbody>\n",
       "</table>\n",
       "</div>"
      ],
      "text/plain": [
       "   maxIter  rank  regParam  rmse_test  rmse_train\n",
       "0        5    10       0.1   1.831672    0.532088\n",
       "1       10    10       0.1   1.642934    0.452906\n",
       "2       20    10       0.1   1.560235    0.420251\n",
       "3       30    10       0.1   1.544401    0.410532"
      ]
     },
     "execution_count": 39,
     "metadata": {},
     "output_type": "execute_result"
    }
   ],
   "source": [
    "scores"
   ]
  },
  {
   "cell_type": "markdown",
   "metadata": {},
   "source": [
    "Der Einfachheit halber haben wir hier maxIter bei festgehaltenen anderen Parametern variiert. Wir sehen, dass es zwichen den Werten 10, 20 und 30 nur eine sehr kleine Veränderung gibt. Für das Folgende wählen wir deshalt maxIter=20.\n",
    "\n",
    "Wir werden diesen Parameter nochmals für das finale Modell untersuchen."
   ]
  },
  {
   "cell_type": "markdown",
   "metadata": {},
   "source": [
    "### Abhängigkeit von regParam und rank"
   ]
  },
  {
   "cell_type": "code",
   "execution_count": 40,
   "metadata": {
    "collapsed": false
   },
   "outputs": [
    {
     "name": "stdout",
     "output_type": "stream",
     "text": [
      "CPU times: user 4 s, sys: 1.51 s, total: 5.51 s\n",
      "Wall time: 14min 53s\n"
     ]
    }
   ],
   "source": [
    "%%time\n",
    "parameters = dict(regParam=[0.1, 0.25, 0.5, 1.0], \n",
    "                  rank=[5, 10, 20],\n",
    "                  maxIter=[20])\n",
    "postprocessing = [fillna_mean, restrict_output]\n",
    "scores = parameter_scan(ALS, parameters, post=postprocessing,\n",
    "                        save=\"cv_reg_rank.pkl\")"
   ]
  },
  {
   "cell_type": "code",
   "execution_count": 41,
   "metadata": {
    "collapsed": false
   },
   "outputs": [
    {
     "data": {
      "text/html": [
       "<div>\n",
       "<table border=\"1\" class=\"dataframe\">\n",
       "  <thead>\n",
       "    <tr style=\"text-align: right;\">\n",
       "      <th></th>\n",
       "      <th>maxIter</th>\n",
       "      <th>rank</th>\n",
       "      <th>regParam</th>\n",
       "      <th>rmse_test</th>\n",
       "      <th>rmse_train</th>\n",
       "    </tr>\n",
       "  </thead>\n",
       "  <tbody>\n",
       "    <tr>\n",
       "      <th>0</th>\n",
       "      <td>20</td>\n",
       "      <td>5</td>\n",
       "      <td>0.10</td>\n",
       "      <td>1.557572</td>\n",
       "      <td>0.539980</td>\n",
       "    </tr>\n",
       "    <tr>\n",
       "      <th>1</th>\n",
       "      <td>20</td>\n",
       "      <td>5</td>\n",
       "      <td>0.25</td>\n",
       "      <td>1.477115</td>\n",
       "      <td>0.688332</td>\n",
       "    </tr>\n",
       "    <tr>\n",
       "      <th>2</th>\n",
       "      <td>20</td>\n",
       "      <td>5</td>\n",
       "      <td>0.50</td>\n",
       "      <td>1.468557</td>\n",
       "      <td>0.946688</td>\n",
       "    </tr>\n",
       "    <tr>\n",
       "      <th>3</th>\n",
       "      <td>20</td>\n",
       "      <td>5</td>\n",
       "      <td>1.00</td>\n",
       "      <td>1.621959</td>\n",
       "      <td>1.346849</td>\n",
       "    </tr>\n",
       "    <tr>\n",
       "      <th>4</th>\n",
       "      <td>20</td>\n",
       "      <td>10</td>\n",
       "      <td>0.10</td>\n",
       "      <td>1.560235</td>\n",
       "      <td>0.420251</td>\n",
       "    </tr>\n",
       "    <tr>\n",
       "      <th>5</th>\n",
       "      <td>20</td>\n",
       "      <td>10</td>\n",
       "      <td>0.25</td>\n",
       "      <td>1.478745</td>\n",
       "      <td>0.628781</td>\n",
       "    </tr>\n",
       "    <tr>\n",
       "      <th>6</th>\n",
       "      <td>20</td>\n",
       "      <td>10</td>\n",
       "      <td>0.50</td>\n",
       "      <td>1.471890</td>\n",
       "      <td>0.933557</td>\n",
       "    </tr>\n",
       "    <tr>\n",
       "      <th>7</th>\n",
       "      <td>20</td>\n",
       "      <td>10</td>\n",
       "      <td>1.00</td>\n",
       "      <td>1.625541</td>\n",
       "      <td>1.346082</td>\n",
       "    </tr>\n",
       "    <tr>\n",
       "      <th>8</th>\n",
       "      <td>20</td>\n",
       "      <td>20</td>\n",
       "      <td>0.10</td>\n",
       "      <td>1.538990</td>\n",
       "      <td>0.350049</td>\n",
       "    </tr>\n",
       "    <tr>\n",
       "      <th>9</th>\n",
       "      <td>20</td>\n",
       "      <td>20</td>\n",
       "      <td>0.25</td>\n",
       "      <td>1.474167</td>\n",
       "      <td>0.597269</td>\n",
       "    </tr>\n",
       "    <tr>\n",
       "      <th>10</th>\n",
       "      <td>20</td>\n",
       "      <td>20</td>\n",
       "      <td>0.50</td>\n",
       "      <td>1.470565</td>\n",
       "      <td>0.928319</td>\n",
       "    </tr>\n",
       "    <tr>\n",
       "      <th>11</th>\n",
       "      <td>20</td>\n",
       "      <td>20</td>\n",
       "      <td>1.00</td>\n",
       "      <td>1.622717</td>\n",
       "      <td>1.345949</td>\n",
       "    </tr>\n",
       "  </tbody>\n",
       "</table>\n",
       "</div>"
      ],
      "text/plain": [
       "    maxIter  rank  regParam  rmse_test  rmse_train\n",
       "0        20     5      0.10   1.557572    0.539980\n",
       "1        20     5      0.25   1.477115    0.688332\n",
       "2        20     5      0.50   1.468557    0.946688\n",
       "3        20     5      1.00   1.621959    1.346849\n",
       "4        20    10      0.10   1.560235    0.420251\n",
       "5        20    10      0.25   1.478745    0.628781\n",
       "6        20    10      0.50   1.471890    0.933557\n",
       "7        20    10      1.00   1.625541    1.346082\n",
       "8        20    20      0.10   1.538990    0.350049\n",
       "9        20    20      0.25   1.474167    0.597269\n",
       "10       20    20      0.50   1.470565    0.928319\n",
       "11       20    20      1.00   1.622717    1.345949"
      ]
     },
     "execution_count": 41,
     "metadata": {},
     "output_type": "execute_result"
    }
   ],
   "source": [
    "scores"
   ]
  },
  {
   "cell_type": "code",
   "execution_count": 42,
   "metadata": {
    "collapsed": false
   },
   "outputs": [
    {
     "data": {
      "image/png": "[encoded data removed]",
      "text/plain": [
       "<matplotlib.figure.Figure at 0x7f9306efda90>"
      ]
     },
     "metadata": {},
     "output_type": "display_data"
    }
   ],
   "source": [
    "sns.factorplot(data=utils.concat_for_seaborn(scores), sharey=False, x=\"regParam\", y=\"rmse\", \n",
    "               hue=\"rank\", col=\"dataset\", col_order=[\"test\", \"train\"])\n",
    "plt.savefig(\"plots/full_scan_reg_rank_plain_als.pdf\", bbox_inches=\"tight\")"
   ]
  },
  {
   "cell_type": "markdown",
   "metadata": {},
   "source": [
    "In der obigen Grafik sieht man das Ergebnis des Parametscans von regParam und rank. Der linke bzw. rechte Plot zeigt die Perfomance des Verfahrens auf dem Test- bzw. Trainings-Satz.\n",
    "\n",
    "Im linken Plot, können wir die optimalen Parameter ablesen. Wir sehen das der beste Regularisierungs-Parameter bei $\\lambda=0.25$ liegt. Die Dimension der Vektoren $\\mathbf{Q}_u$, $\\mathbf{P}_i$ hat bei diesm $\\lambda$ kaum einen Einfluß.\n",
    "\n",
    "Im rechten Plot, dass die \"Performance\" auf dem Trainings-Satz stets besser ist als auf dem Test-Satz. Dies ist normal. Außerdem sehen wir, dass die \"Performance\" mit sinkendender Regularisierung immer besser wird. Dies ist auch zu erwarten, da mit sinkendender Regularisierung das Verfahren den Trainings-Satz immer besser auswendig lernen kann. Das zeigt, warum man die \"Performance\" auf dem Trainings-Satz nicht für die Auswahl der Meta-Parameter verwenden darf.\n",
    "\n",
    "Der beste RMSE-Score ist 1.177. Der triviale Pädiktor hat 1.227. Wir sehen also eine Verbesserung um 0.05 oder um 4%. Dieses Ergebnis ist nicht gerade berauschend. Vielleicht können wir ja noch mehr rausholen."
   ]
  },
  {
   "cell_type": "markdown",
   "metadata": {},
   "source": [
    "## Daten um den Mittelwert bereinigen und an die Residuen fitten"
   ]
  },
  {
   "cell_type": "markdown",
   "metadata": {},
   "source": [
    "Hier ziehen wir von den Daten den Mittelwert der Bewertungen ab, bevor wir das ALS Verfahren anwenden. Wir zentrieren sozusagen die Daten. Dadurch muss das ALS den Mittelwert nicht selbst lernen.\n",
    "\n",
    "Die geschieht durch die Preprocessing-Funktion \"subtract_mean\". Die Postprocessing-Funktion \"add_mean\" addiert den Mittelwert zu dem ALS-Ergebnis hinzu, um eine richtige Vorhersage zu erhalten.\n",
    "\n",
    "Die Beispiele wo ALS keine Vorhersage machen kann, werden mit 0 aufgefüllt."
   ]
  },
  {
   "cell_type": "code",
   "execution_count": 43,
   "metadata": {
    "collapsed": true
   },
   "outputs": [],
   "source": [
    "def subtract_mean(df, mean=average_rating, col=\"rating\"):\n",
    "    return df.withColumn(col, F.col(col) - mean)\n",
    "\n",
    "def add_mean(df, mean=average_rating, col=\"prediction\"):\n",
    "    return df.withColumn(col, F.col(col) + mean)"
   ]
  },
  {
   "cell_type": "code",
   "execution_count": 44,
   "metadata": {
    "collapsed": false
   },
   "outputs": [
    {
     "name": "stdout",
     "output_type": "stream",
     "text": [
      "CPU times: user 4.26 s, sys: 1.5 s, total: 5.76 s\n",
      "Wall time: 14min 46s\n"
     ]
    }
   ],
   "source": [
    "%%time\n",
    "parameters = dict(regParam=[0.1, 0.25, 0.5, 1.0], \n",
    "                  rank=[5, 10, 20],\n",
    "                  maxIter=[20])\n",
    "preprocessing = [subtract_mean]\n",
    "postprocessing = [fillna_zero, add_mean, restrict_output]\n",
    "scores = parameter_scan(ALS, parameters, pre=preprocessing, post=postprocessing,\n",
    "                        save=\"cv_reg_rank_residual.pkl\")"
   ]
  },
  {
   "cell_type": "code",
   "execution_count": 45,
   "metadata": {
    "collapsed": false
   },
   "outputs": [
    {
     "data": {
      "text/html": [
       "<div>\n",
       "<table border=\"1\" class=\"dataframe\">\n",
       "  <thead>\n",
       "    <tr style=\"text-align: right;\">\n",
       "      <th></th>\n",
       "      <th>maxIter</th>\n",
       "      <th>rank</th>\n",
       "      <th>regParam</th>\n",
       "      <th>rmse_test</th>\n",
       "      <th>rmse_train</th>\n",
       "    </tr>\n",
       "  </thead>\n",
       "  <tbody>\n",
       "    <tr>\n",
       "      <th>0</th>\n",
       "      <td>20</td>\n",
       "      <td>5</td>\n",
       "      <td>0.10</td>\n",
       "      <td>1.468231</td>\n",
       "      <td>0.553951</td>\n",
       "    </tr>\n",
       "    <tr>\n",
       "      <th>1</th>\n",
       "      <td>20</td>\n",
       "      <td>5</td>\n",
       "      <td>0.25</td>\n",
       "      <td>1.401121</td>\n",
       "      <td>0.697555</td>\n",
       "    </tr>\n",
       "    <tr>\n",
       "      <th>2</th>\n",
       "      <td>20</td>\n",
       "      <td>5</td>\n",
       "      <td>0.50</td>\n",
       "      <td>1.388723</td>\n",
       "      <td>0.948008</td>\n",
       "    </tr>\n",
       "    <tr>\n",
       "      <th>3</th>\n",
       "      <td>20</td>\n",
       "      <td>5</td>\n",
       "      <td>1.00</td>\n",
       "      <td>1.407822</td>\n",
       "      <td>1.308279</td>\n",
       "    </tr>\n",
       "    <tr>\n",
       "      <th>4</th>\n",
       "      <td>20</td>\n",
       "      <td>10</td>\n",
       "      <td>0.10</td>\n",
       "      <td>1.422326</td>\n",
       "      <td>0.420109</td>\n",
       "    </tr>\n",
       "    <tr>\n",
       "      <th>5</th>\n",
       "      <td>20</td>\n",
       "      <td>10</td>\n",
       "      <td>0.25</td>\n",
       "      <td>1.377091</td>\n",
       "      <td>0.626883</td>\n",
       "    </tr>\n",
       "    <tr>\n",
       "      <th>6</th>\n",
       "      <td>20</td>\n",
       "      <td>10</td>\n",
       "      <td>0.50</td>\n",
       "      <td>1.374456</td>\n",
       "      <td>0.918032</td>\n",
       "    </tr>\n",
       "    <tr>\n",
       "      <th>7</th>\n",
       "      <td>20</td>\n",
       "      <td>10</td>\n",
       "      <td>1.00</td>\n",
       "      <td>1.407144</td>\n",
       "      <td>1.305979</td>\n",
       "    </tr>\n",
       "    <tr>\n",
       "      <th>8</th>\n",
       "      <td>20</td>\n",
       "      <td>20</td>\n",
       "      <td>0.10</td>\n",
       "      <td>1.393781</td>\n",
       "      <td>0.350499</td>\n",
       "    </tr>\n",
       "    <tr>\n",
       "      <th>9</th>\n",
       "      <td>20</td>\n",
       "      <td>20</td>\n",
       "      <td>0.25</td>\n",
       "      <td>1.366899</td>\n",
       "      <td>0.592422</td>\n",
       "    </tr>\n",
       "    <tr>\n",
       "      <th>10</th>\n",
       "      <td>20</td>\n",
       "      <td>20</td>\n",
       "      <td>0.50</td>\n",
       "      <td>1.369378</td>\n",
       "      <td>0.906149</td>\n",
       "    </tr>\n",
       "    <tr>\n",
       "      <th>11</th>\n",
       "      <td>20</td>\n",
       "      <td>20</td>\n",
       "      <td>1.00</td>\n",
       "      <td>1.406415</td>\n",
       "      <td>1.304674</td>\n",
       "    </tr>\n",
       "  </tbody>\n",
       "</table>\n",
       "</div>"
      ],
      "text/plain": [
       "    maxIter  rank  regParam  rmse_test  rmse_train\n",
       "0        20     5      0.10   1.468231    0.553951\n",
       "1        20     5      0.25   1.401121    0.697555\n",
       "2        20     5      0.50   1.388723    0.948008\n",
       "3        20     5      1.00   1.407822    1.308279\n",
       "4        20    10      0.10   1.422326    0.420109\n",
       "5        20    10      0.25   1.377091    0.626883\n",
       "6        20    10      0.50   1.374456    0.918032\n",
       "7        20    10      1.00   1.407144    1.305979\n",
       "8        20    20      0.10   1.393781    0.350499\n",
       "9        20    20      0.25   1.366899    0.592422\n",
       "10       20    20      0.50   1.369378    0.906149\n",
       "11       20    20      1.00   1.406415    1.304674"
      ]
     },
     "execution_count": 45,
     "metadata": {},
     "output_type": "execute_result"
    }
   ],
   "source": [
    "scores"
   ]
  },
  {
   "cell_type": "code",
   "execution_count": 46,
   "metadata": {
    "collapsed": false
   },
   "outputs": [
    {
     "data": {
      "image/png": "[encoded data removed]",
      "text/plain": [
       "<matplotlib.figure.Figure at 0x7f93070dcf60>"
      ]
     },
     "metadata": {},
     "output_type": "display_data"
    }
   ],
   "source": [
    "sns.factorplot(data=utils.concat_for_seaborn(scores), sharey=False, x=\"regParam\", y=\"rmse\", \n",
    "               hue=\"rank\", col=\"dataset\", col_order=[\"test\", \"train\"])\n",
    "plt.savefig(\"plots/full_scan_reg_rank_mu_als.pdf\", bbox_inches=\"tight\")"
   ]
  },
  {
   "cell_type": "markdown",
   "metadata": {},
   "source": [
    "In der obigen Grafik sehen wir, dass der beste RMSE-Score dieses modifzierten Verfahren bei 1.162 liegt. Dadurch haben wir uns gegebenüber dem normalen ALS um 0,015 oder 1,3% verbessert. Immer noch nicht berauschend, wir machen weiter ...."
   ]
  },
  {
   "cell_type": "markdown",
   "metadata": {},
   "source": [
    "### User- und Itembias Vektoren"
   ]
  },
  {
   "cell_type": "markdown",
   "metadata": {},
   "source": [
    "Es scheint, dass es dem ALS Verfahren gut tut, wenn man bekannte Information vor dem Trainieren abzieht. Motoviert daduch versuchen wir nun zusätzlich zum Mittelwert die *bedingten* Mittelwerte einfließen zu lassen.\n",
    "\n",
    "In [1] wird folgender Ansatz als Modell genommen:\n",
    "\\begin{equation}\n",
    "R_{ui} = \\mu + b_u + b_i + \\mathbf{Q}_u \\cdot \\mathbf{P}_i\n",
    "\\end{equation}\n",
    "dabei sind $b_u$ und $b_i$ der Bias des Users $u$ und Items $i$. Diese beschreiben, ob ein User bzw.  Item tendenziell Bewertungen über oder unter dem Mittelwert vergibt bzw. erhält.\n",
    "\n",
    "Hier wollen wir zunächst das einfachere Modell $\\mu + b_u + b_i$ ausprobieren. In diesem Fall lassen sich $b_u$ und $b_i$ analytisch bestimmen. Vernachlässigt man die Regularisierung und fordert zusätzlich \n",
    "\n",
    "\\begin{equation}\n",
    "\\sum_i b_i = 0 \\\\\n",
    "\\sum_u b_u = 0\n",
    "\\end{equation}\n",
    "\n",
    "(es macht durchaus Sinn, dass die Bias-Verteilung zentriert ist), so erhält man durch Optimierung der Fehler-Funktion (d.h. $ dJ/db_i = 0, dJ/db_u = 0$) folgende Lösung\n",
    "\n",
    "\\begin{equation}\n",
    "b_i = \\frac{1}{n_u}\\sum_{u\\in K} (R_{ui} - \\mu) \\\\\n",
    "b_u = \\frac{1}{n_i}\\sum_{i\\in K} (R_{ui} - \\mu)\n",
    "\\end{equation}\n",
    "\n",
    "Dies sind gerade die (zentrierten) bedingten Mittelwerte der Bewertungen. Diese werden im Folgenden berechnet und zur Vorhersage genutzt. \n",
    "\n",
    "Wir erhalten einen RMSE-Score von 1,124. Dies ist um 0,038 oder 3,2% besser als das Modell aus dem vorhergehenden Abschnitt ($R_{ui} = \\mu + \\mathbf{Q}_u \\cdot \\mathbf{P}_i$). \n",
    "\n",
    "**Hier haben wir also ohne jegliches ALS und numerische Optimierung ein besseres Modell erhalten. Hmm ....**"
   ]
  },
  {
   "cell_type": "code",
   "execution_count": 47,
   "metadata": {
    "collapsed": false
   },
   "outputs": [
    {
     "name": "stdout",
     "output_type": "stream",
     "text": [
      "+----+-------------------+\n",
      "|user|          user_bias|\n",
      "+----+-------------------+\n",
      "| 148|-0.7675431774794634|\n",
      "| 463|-2.7675431774794634|\n",
      "| 471|-2.5175431774794634|\n",
      "| 496| 1.2324568225205366|\n",
      "| 833| 1.2324568225205366|\n",
      "+----+-------------------+\n",
      "only showing top 5 rows\n",
      "\n"
     ]
    }
   ],
   "source": [
    "user_bias = train.groupBy(\"user\").agg((F.mean(\"rating\") - average_rating).alias(\"user_bias\"))\n",
    "user_bias.cache()\n",
    "item_bias = train.groupBy(\"item\").agg((F.mean(\"rating\") - average_rating).alias(\"item_bias\"))\n",
    "item_bias.cache()\n",
    "user_bias.show(5)"
   ]
  },
  {
   "cell_type": "code",
   "execution_count": 48,
   "metadata": {
    "collapsed": true
   },
   "outputs": [],
   "source": [
    "test_pred = (test\n",
    " .join(user_bias, \"user\", how=\"left\")\n",
    " .join(item_bias, \"item\", how=\"left\")\n",
    " .na.fill(0.0, [\"user_bias\", \"item_bias\"])\n",
    " .select(\"user\", \"item\", \"rating\", \n",
    "         (F.lit(average_rating) + F.col(\"user_bias\") + F.col(\"item_bias\")).alias(\"prediction\"))\n",
    "    )"
   ]
  },
  {
   "cell_type": "code",
   "execution_count": 49,
   "metadata": {
    "collapsed": false
   },
   "outputs": [
    {
     "data": {
      "text/plain": [
       "1.3853675182611014"
      ]
     },
     "execution_count": 49,
     "metadata": {},
     "output_type": "execute_result"
    }
   ],
   "source": [
    "rmse.evaluate(test_pred)"
   ]
  },
  {
   "cell_type": "markdown",
   "metadata": {},
   "source": [
    "##### Einschränken des Output-Wertebereiches bringt Verbesserung"
   ]
  },
  {
   "cell_type": "code",
   "execution_count": 50,
   "metadata": {
    "collapsed": false
   },
   "outputs": [
    {
     "data": {
      "text/plain": [
       "1.3436408744509467"
      ]
     },
     "execution_count": 50,
     "metadata": {},
     "output_type": "execute_result"
    }
   ],
   "source": [
    "rmse.evaluate(restrict_output(test_pred))"
   ]
  },
  {
   "cell_type": "markdown",
   "metadata": {},
   "source": [
    "### Daten um Mittelwert und Bias-Vektoren bereinigen"
   ]
  },
  {
   "cell_type": "markdown",
   "metadata": {},
   "source": [
    "Hier wollen wir nun das komplette Model\n",
    "\\begin{equation}\n",
    "R_{ui} = \\mu + b_u + b_i + \\mathbf{Q}_u \\cdot \\mathbf{P}_i\n",
    "\\end{equation}\n",
    "trainieren. Zu diesem Zweck ziehen vor dem Trainieren des ALS $\\mu + b_u + b_i$ von den Daten ab und trainiren das ALS auf den Residuen. Dies wird durch die Funktion \"subtract_mean_and_biases\" bewerkstelligt. Die Funktion \"add_mean_and_biases\" addiert $\\mu + b_u + b_i$ auf den Output von ALS wieder drauf.\n",
    "\n",
    "#### Anmerkung\n",
    "In [1] wird das gesammte obige Modell auf einmal gefittet und zusätzlich gibt es Regularisierungsterme für $b_u$ und $b_i$. Dort findet die Optimierung mit stochastic gradient descent statt. Da das ALS dies nicht kann, ermitteln wir hier die $b_u$ und $b_i$ vor dem Fitten, wie oben beschrieben."
   ]
  },
  {
   "cell_type": "code",
   "execution_count": 51,
   "metadata": {
    "collapsed": false
   },
   "outputs": [],
   "source": [
    "def subtract_mean_and_biases(df, user_bias=user_bias, item_bias=item_bias, \n",
    "                             mean=average_rating, col=\"rating\"):\n",
    "    df = (df\n",
    "          .join(user_bias, \"user\", how=\"left\")\n",
    "          .join(item_bias, \"item\", how=\"left\")\n",
    "          .withColumn(col, F.col(col) - mean - F.col(\"user_bias\") - F.col(\"item_bias\"))\n",
    "         )\n",
    "    return df\n",
    "\n",
    "def add_mean_and_biases(df, user_bias=user_bias, item_bias=item_bias, \n",
    "                        mean=average_rating, col=\"prediction\"):\n",
    "    assert col == \"prediction\"\n",
    "    df = (df\n",
    "          .join(user_bias, \"user\", how=\"left\")\n",
    "          .join(item_bias, \"item\", how=\"left\")\n",
    "          .na.fill(0.0, [\"user_bias\", \"item_bias\", \"prediction\"])\n",
    "          .withColumn(\"prediction\", mean + F.col(\"user_bias\") + F.col(\"item_bias\") + F.col(\"prediction\"))\n",
    "         )\n",
    "    return df"
   ]
  },
  {
   "cell_type": "code",
   "execution_count": 52,
   "metadata": {
    "collapsed": false,
    "scrolled": true
   },
   "outputs": [
    {
     "name": "stdout",
     "output_type": "stream",
     "text": [
      "CPU times: user 4.04 s, sys: 1.51 s, total: 5.54 s\n",
      "Wall time: 15min 11s\n"
     ]
    }
   ],
   "source": [
    "%%time\n",
    "parameters = dict(regParam=[0.25, 0.5, 0.75, 1.0], \n",
    "                  rank=[5, 10, 20],\n",
    "                  maxIter=[20])\n",
    "preprocessing = [subtract_mean_and_biases]\n",
    "postprocessing = [fillna_zero, add_mean_and_biases, restrict_output]\n",
    "scores = parameter_scan(ALS, parameters, pre=preprocessing, post=postprocessing, \n",
    "                        save=\"cv_reg_rank_residual2.pkl\")"
   ]
  },
  {
   "cell_type": "code",
   "execution_count": 53,
   "metadata": {
    "collapsed": false
   },
   "outputs": [
    {
     "data": {
      "text/html": [
       "<div>\n",
       "<table border=\"1\" class=\"dataframe\">\n",
       "  <thead>\n",
       "    <tr style=\"text-align: right;\">\n",
       "      <th></th>\n",
       "      <th>maxIter</th>\n",
       "      <th>rank</th>\n",
       "      <th>regParam</th>\n",
       "      <th>rmse_test</th>\n",
       "      <th>rmse_train</th>\n",
       "    </tr>\n",
       "  </thead>\n",
       "  <tbody>\n",
       "    <tr>\n",
       "      <th>0</th>\n",
       "      <td>20</td>\n",
       "      <td>5</td>\n",
       "      <td>0.25</td>\n",
       "      <td>1.358150</td>\n",
       "      <td>0.672273</td>\n",
       "    </tr>\n",
       "    <tr>\n",
       "      <th>1</th>\n",
       "      <td>20</td>\n",
       "      <td>5</td>\n",
       "      <td>0.50</td>\n",
       "      <td>1.343574</td>\n",
       "      <td>0.871965</td>\n",
       "    </tr>\n",
       "    <tr>\n",
       "      <th>2</th>\n",
       "      <td>20</td>\n",
       "      <td>5</td>\n",
       "      <td>0.75</td>\n",
       "      <td>1.343446</td>\n",
       "      <td>0.935262</td>\n",
       "    </tr>\n",
       "    <tr>\n",
       "      <th>3</th>\n",
       "      <td>20</td>\n",
       "      <td>5</td>\n",
       "      <td>1.00</td>\n",
       "      <td>1.343612</td>\n",
       "      <td>0.945218</td>\n",
       "    </tr>\n",
       "    <tr>\n",
       "      <th>4</th>\n",
       "      <td>20</td>\n",
       "      <td>10</td>\n",
       "      <td>0.25</td>\n",
       "      <td>1.351772</td>\n",
       "      <td>0.627156</td>\n",
       "    </tr>\n",
       "    <tr>\n",
       "      <th>5</th>\n",
       "      <td>20</td>\n",
       "      <td>10</td>\n",
       "      <td>0.50</td>\n",
       "      <td>1.342957</td>\n",
       "      <td>0.866619</td>\n",
       "    </tr>\n",
       "    <tr>\n",
       "      <th>6</th>\n",
       "      <td>20</td>\n",
       "      <td>10</td>\n",
       "      <td>0.75</td>\n",
       "      <td>1.343435</td>\n",
       "      <td>0.935011</td>\n",
       "    </tr>\n",
       "    <tr>\n",
       "      <th>7</th>\n",
       "      <td>20</td>\n",
       "      <td>10</td>\n",
       "      <td>1.00</td>\n",
       "      <td>1.343606</td>\n",
       "      <td>0.945209</td>\n",
       "    </tr>\n",
       "    <tr>\n",
       "      <th>8</th>\n",
       "      <td>20</td>\n",
       "      <td>20</td>\n",
       "      <td>0.25</td>\n",
       "      <td>1.346849</td>\n",
       "      <td>0.601603</td>\n",
       "    </tr>\n",
       "    <tr>\n",
       "      <th>9</th>\n",
       "      <td>20</td>\n",
       "      <td>20</td>\n",
       "      <td>0.50</td>\n",
       "      <td>1.342640</td>\n",
       "      <td>0.863678</td>\n",
       "    </tr>\n",
       "    <tr>\n",
       "      <th>10</th>\n",
       "      <td>20</td>\n",
       "      <td>20</td>\n",
       "      <td>0.75</td>\n",
       "      <td>1.343416</td>\n",
       "      <td>0.934875</td>\n",
       "    </tr>\n",
       "    <tr>\n",
       "      <th>11</th>\n",
       "      <td>20</td>\n",
       "      <td>20</td>\n",
       "      <td>1.00</td>\n",
       "      <td>1.343604</td>\n",
       "      <td>0.945200</td>\n",
       "    </tr>\n",
       "  </tbody>\n",
       "</table>\n",
       "</div>"
      ],
      "text/plain": [
       "    maxIter  rank  regParam  rmse_test  rmse_train\n",
       "0        20     5      0.25   1.358150    0.672273\n",
       "1        20     5      0.50   1.343574    0.871965\n",
       "2        20     5      0.75   1.343446    0.935262\n",
       "3        20     5      1.00   1.343612    0.945218\n",
       "4        20    10      0.25   1.351772    0.627156\n",
       "5        20    10      0.50   1.342957    0.866619\n",
       "6        20    10      0.75   1.343435    0.935011\n",
       "7        20    10      1.00   1.343606    0.945209\n",
       "8        20    20      0.25   1.346849    0.601603\n",
       "9        20    20      0.50   1.342640    0.863678\n",
       "10       20    20      0.75   1.343416    0.934875\n",
       "11       20    20      1.00   1.343604    0.945200"
      ]
     },
     "execution_count": 53,
     "metadata": {},
     "output_type": "execute_result"
    }
   ],
   "source": [
    "scores"
   ]
  },
  {
   "cell_type": "code",
   "execution_count": 54,
   "metadata": {
    "collapsed": false
   },
   "outputs": [
    {
     "data": {
      "image/png": "[encoded data removed]",
      "text/plain": [
       "<matplotlib.figure.Figure at 0x7f930fec9400>"
      ]
     },
     "metadata": {},
     "output_type": "display_data"
    }
   ],
   "source": [
    "sns.factorplot(data=utils.concat_for_seaborn(scores), sharey=False, x=\"regParam\", y=\"rmse\", \n",
    "               hue=\"rank\", col=\"dataset\", col_order=[\"test\", \"train\"])\n",
    "plt.savefig(\"plots/full_scan_reg_rank_mu_bias_als.pdf\", bbox_inches=\"tight\")"
   ]
  },
  {
   "cell_type": "markdown",
   "metadata": {},
   "source": [
    "Diese Modell erreich einen RMSE-Score von 1,1236. Dies praktisch der gleiche Score wie im vorhergehenden Modell (1,1239). \n",
    "\n",
    "**Das ALS scheint nichts aus den Residuen zu lernen.**\n",
    "\n",
    "Die Frage ist, ob es vielleicht nichts zu lernen gibt oder ob das Verfahren aus irgendeinem Grund versagt."
   ]
  },
  {
   "cell_type": "markdown",
   "metadata": {},
   "source": [
    "### Scan des Parameters rank"
   ]
  },
  {
   "cell_type": "markdown",
   "metadata": {},
   "source": [
    "Im obigen linken Plot sieht man eine rapide Verbesserung der Vorhersage-Perfomance bei regParam=0,25 und steigendem rank. Vielleicht erreichen wir ja duch weitere Erhöhung von rank eine bessere Performance.\n",
    "\n",
    "Im Folgenden sehen wir jedoch, das dies nicht der Fall ist. Das Modell mit rank=100 kommt auf einen ähnlichen Fehler wie das obige Modell. Eine weitere Erhöhung von rank steigert die Rechendauer enorm, deswegen gehen wir hier nicht weiter. Der Kurvenverlaufes in unteren linken Plot deutet auch nicht auf eine starke Verbesserung mit weiter steigenedem rank hin."
   ]
  },
  {
   "cell_type": "code",
   "execution_count": 55,
   "metadata": {
    "collapsed": false
   },
   "outputs": [
    {
     "name": "stdout",
     "output_type": "stream",
     "text": [
      "CPU times: user 2.38 s, sys: 780 ms, total: 3.16 s\n",
      "Wall time: 32min 24s\n"
     ]
    }
   ],
   "source": [
    "%%time\n",
    "parameters = dict(regParam=[0.25], \n",
    "                  rank=[5, 10, 30, 50, 70, 100],\n",
    "                  maxIter=[20])\n",
    "preprocessing = [subtract_mean_and_biases]\n",
    "postprocessing = [fillna_zero, add_mean_and_biases, restrict_output]\n",
    "scores = parameter_scan(ALS, parameters, pre=preprocessing, post=postprocessing, \n",
    "                        save=\"cv_rank_residual2.pkl\")"
   ]
  },
  {
   "cell_type": "code",
   "execution_count": 56,
   "metadata": {
    "collapsed": false
   },
   "outputs": [
    {
     "data": {
      "text/html": [
       "<div>\n",
       "<table border=\"1\" class=\"dataframe\">\n",
       "  <thead>\n",
       "    <tr style=\"text-align: right;\">\n",
       "      <th></th>\n",
       "      <th>maxIter</th>\n",
       "      <th>rank</th>\n",
       "      <th>regParam</th>\n",
       "      <th>rmse_test</th>\n",
       "      <th>rmse_train</th>\n",
       "    </tr>\n",
       "  </thead>\n",
       "  <tbody>\n",
       "    <tr>\n",
       "      <th>0</th>\n",
       "      <td>20</td>\n",
       "      <td>5</td>\n",
       "      <td>0.25</td>\n",
       "      <td>1.358150</td>\n",
       "      <td>0.672273</td>\n",
       "    </tr>\n",
       "    <tr>\n",
       "      <th>1</th>\n",
       "      <td>20</td>\n",
       "      <td>10</td>\n",
       "      <td>0.25</td>\n",
       "      <td>1.351772</td>\n",
       "      <td>0.627156</td>\n",
       "    </tr>\n",
       "    <tr>\n",
       "      <th>2</th>\n",
       "      <td>20</td>\n",
       "      <td>30</td>\n",
       "      <td>0.25</td>\n",
       "      <td>1.345032</td>\n",
       "      <td>0.592936</td>\n",
       "    </tr>\n",
       "    <tr>\n",
       "      <th>3</th>\n",
       "      <td>20</td>\n",
       "      <td>50</td>\n",
       "      <td>0.25</td>\n",
       "      <td>1.343196</td>\n",
       "      <td>0.586334</td>\n",
       "    </tr>\n",
       "    <tr>\n",
       "      <th>4</th>\n",
       "      <td>20</td>\n",
       "      <td>70</td>\n",
       "      <td>0.25</td>\n",
       "      <td>1.342792</td>\n",
       "      <td>0.583844</td>\n",
       "    </tr>\n",
       "    <tr>\n",
       "      <th>5</th>\n",
       "      <td>20</td>\n",
       "      <td>100</td>\n",
       "      <td>0.25</td>\n",
       "      <td>1.342319</td>\n",
       "      <td>0.581990</td>\n",
       "    </tr>\n",
       "  </tbody>\n",
       "</table>\n",
       "</div>"
      ],
      "text/plain": [
       "   maxIter  rank  regParam  rmse_test  rmse_train\n",
       "0       20     5      0.25   1.358150    0.672273\n",
       "1       20    10      0.25   1.351772    0.627156\n",
       "2       20    30      0.25   1.345032    0.592936\n",
       "3       20    50      0.25   1.343196    0.586334\n",
       "4       20    70      0.25   1.342792    0.583844\n",
       "5       20   100      0.25   1.342319    0.581990"
      ]
     },
     "execution_count": 56,
     "metadata": {},
     "output_type": "execute_result"
    }
   ],
   "source": [
    "scores"
   ]
  },
  {
   "cell_type": "code",
   "execution_count": 57,
   "metadata": {
    "collapsed": false
   },
   "outputs": [
    {
     "data": {
      "image/png": "[encoded data removed]",
      "text/plain": [
       "<matplotlib.figure.Figure at 0x7f930fd63080>"
      ]
     },
     "metadata": {},
     "output_type": "display_data"
    }
   ],
   "source": [
    "sns.factorplot(data=utils.concat_for_seaborn(scores), sharey=False, x=\"rank\", y=\"rmse\", \n",
    "               col=\"dataset\", col_order=[\"test\", \"train\"])\n",
    "plt.savefig(\"scan_rank.pdf\", bbox_inches=\"tight\")"
   ]
  },
  {
   "cell_type": "code",
   "execution_count": 58,
   "metadata": {
    "collapsed": false
   },
   "outputs": [
    {
     "name": "stdout",
     "output_type": "stream",
     "text": [
      "CPU times: user 1.44 s, sys: 540 ms, total: 1.98 s\n",
      "Wall time: 47min 42s\n"
     ]
    }
   ],
   "source": [
    "%%time\n",
    "parameters = dict(regParam=[0.05, 0.1, 0.2], \n",
    "                  rank=[100],\n",
    "                  maxIter=[20])\n",
    "preprocessing = [subtract_mean_and_biases]\n",
    "postprocessing = [fillna_zero, add_mean_and_biases, restrict_output]\n",
    "scores = parameter_scan(ALS, parameters, pre=preprocessing, post=postprocessing, \n",
    "                        save=\"cv_reg_residual2.pkl\")"
   ]
  },
  {
   "cell_type": "code",
   "execution_count": 59,
   "metadata": {
    "collapsed": false
   },
   "outputs": [
    {
     "data": {
      "text/html": [
       "<div>\n",
       "<table border=\"1\" class=\"dataframe\">\n",
       "  <thead>\n",
       "    <tr style=\"text-align: right;\">\n",
       "      <th></th>\n",
       "      <th>maxIter</th>\n",
       "      <th>rank</th>\n",
       "      <th>regParam</th>\n",
       "      <th>rmse_test</th>\n",
       "      <th>rmse_train</th>\n",
       "    </tr>\n",
       "  </thead>\n",
       "  <tbody>\n",
       "    <tr>\n",
       "      <th>0</th>\n",
       "      <td>20</td>\n",
       "      <td>100</td>\n",
       "      <td>0.05</td>\n",
       "      <td>1.353222</td>\n",
       "      <td>0.212076</td>\n",
       "    </tr>\n",
       "    <tr>\n",
       "      <th>1</th>\n",
       "      <td>20</td>\n",
       "      <td>100</td>\n",
       "      <td>0.10</td>\n",
       "      <td>1.348142</td>\n",
       "      <td>0.313670</td>\n",
       "    </tr>\n",
       "    <tr>\n",
       "      <th>2</th>\n",
       "      <td>20</td>\n",
       "      <td>100</td>\n",
       "      <td>0.20</td>\n",
       "      <td>1.343293</td>\n",
       "      <td>0.500856</td>\n",
       "    </tr>\n",
       "  </tbody>\n",
       "</table>\n",
       "</div>"
      ],
      "text/plain": [
       "   maxIter  rank  regParam  rmse_test  rmse_train\n",
       "0       20   100      0.05   1.353222    0.212076\n",
       "1       20   100      0.10   1.348142    0.313670\n",
       "2       20   100      0.20   1.343293    0.500856"
      ]
     },
     "execution_count": 59,
     "metadata": {},
     "output_type": "execute_result"
    }
   ],
   "source": [
    "scores"
   ]
  },
  {
   "cell_type": "markdown",
   "metadata": {},
   "source": [
    "### Nochmaliger Scan von maxIter"
   ]
  },
  {
   "cell_type": "markdown",
   "metadata": {},
   "source": [
    "Hier findet ein nochmaliger Parameterscan von maxIter statt, um sicherzustellen, dass beim bisher besten Modell die Wahl maxIter=20 noch ausreichend ist. Wir sehen, dass dies der Fall ist."
   ]
  },
  {
   "cell_type": "code",
   "execution_count": 60,
   "metadata": {
    "collapsed": false
   },
   "outputs": [
    {
     "name": "stdout",
     "output_type": "stream",
     "text": [
      "CPU times: user 1.29 s, sys: 396 ms, total: 1.68 s\n",
      "Wall time: 4min 44s\n"
     ]
    }
   ],
   "source": [
    "%%time\n",
    "parameters = dict(regParam=[0.5], \n",
    "                  rank=[20],\n",
    "                  maxIter=[5,10,20,30])\n",
    "preprocessing = [subtract_mean_and_biases]\n",
    "postprocessing = [fillna_zero, add_mean_and_biases, restrict_output]\n",
    "scores = parameter_scan(ALS, parameters, pre=preprocessing, post=postprocessing)"
   ]
  },
  {
   "cell_type": "code",
   "execution_count": 61,
   "metadata": {
    "collapsed": false
   },
   "outputs": [
    {
     "data": {
      "text/html": [
       "<div>\n",
       "<table border=\"1\" class=\"dataframe\">\n",
       "  <thead>\n",
       "    <tr style=\"text-align: right;\">\n",
       "      <th></th>\n",
       "      <th>maxIter</th>\n",
       "      <th>rank</th>\n",
       "      <th>regParam</th>\n",
       "      <th>rmse_test</th>\n",
       "      <th>rmse_train</th>\n",
       "    </tr>\n",
       "  </thead>\n",
       "  <tbody>\n",
       "    <tr>\n",
       "      <th>0</th>\n",
       "      <td>5</td>\n",
       "      <td>20</td>\n",
       "      <td>0.5</td>\n",
       "      <td>1.342795</td>\n",
       "      <td>0.883316</td>\n",
       "    </tr>\n",
       "    <tr>\n",
       "      <th>1</th>\n",
       "      <td>10</td>\n",
       "      <td>20</td>\n",
       "      <td>0.5</td>\n",
       "      <td>1.342708</td>\n",
       "      <td>0.871153</td>\n",
       "    </tr>\n",
       "    <tr>\n",
       "      <th>2</th>\n",
       "      <td>20</td>\n",
       "      <td>20</td>\n",
       "      <td>0.5</td>\n",
       "      <td>1.342640</td>\n",
       "      <td>0.863678</td>\n",
       "    </tr>\n",
       "    <tr>\n",
       "      <th>3</th>\n",
       "      <td>30</td>\n",
       "      <td>20</td>\n",
       "      <td>0.5</td>\n",
       "      <td>1.342599</td>\n",
       "      <td>0.861045</td>\n",
       "    </tr>\n",
       "  </tbody>\n",
       "</table>\n",
       "</div>"
      ],
      "text/plain": [
       "   maxIter  rank  regParam  rmse_test  rmse_train\n",
       "0        5    20       0.5   1.342795    0.883316\n",
       "1       10    20       0.5   1.342708    0.871153\n",
       "2       20    20       0.5   1.342640    0.863678\n",
       "3       30    20       0.5   1.342599    0.861045"
      ]
     },
     "execution_count": 61,
     "metadata": {},
     "output_type": "execute_result"
    }
   ],
   "source": [
    "scores"
   ]
  },
  {
   "cell_type": "markdown",
   "metadata": {},
   "source": [
    "## Finaler Test des besten Models"
   ]
  },
  {
   "cell_type": "markdown",
   "metadata": {},
   "source": [
    "Hier wird ein anderer Training-Test-Split gemacht und auf diesem nochmals der Fehler der Vorhersagen bestimmt. Dies ist notwendig, da durch die Auswahl der Meta-Parameter ein Overfitting auf dem speziellen Split stattfinden kann. \n",
    "\n",
    "(Alternativ hätte man einen ganz separaten Test-Satz vorhalten können, also einen Dreiersplit durchführen in training, validation und test.)\n",
    "\n",
    "Wir sehen, dass der RMSE-Score mit 1,1262 etwas höher ist als vorher 1,1235. Die Abweichung liegt aber noch im Rahmen.\n",
    "\n",
    "Das heißt unsere beste Schätzung für den RMSE-Fehlers des Vorhersageverfahrens ist 1,1262. <br>(Man könnte versuchen diesen z.B. durch k-fold-Kreuzvalidierung verlässlicher zu bestimmen.)"
   ]
  },
  {
   "cell_type": "code",
   "execution_count": 62,
   "metadata": {
    "collapsed": false
   },
   "outputs": [
    {
     "data": {
      "text/plain": [
       "DataFrame[user: int, item: int, rating: float]"
      ]
     },
     "execution_count": 62,
     "metadata": {},
     "output_type": "execute_result"
    }
   ],
   "source": [
    "train, test = review_df.randomSplit([0.75,0.25], seed=7)\n",
    "train.cache()\n",
    "test.cache()"
   ]
  },
  {
   "cell_type": "code",
   "execution_count": 63,
   "metadata": {
    "collapsed": false
   },
   "outputs": [
    {
     "data": {
      "text/plain": [
       "3.7681353639250577"
      ]
     },
     "execution_count": 63,
     "metadata": {},
     "output_type": "execute_result"
    }
   ],
   "source": [
    "# average needs to be determined again\n",
    "average_rating = train.agg(F.mean(\"rating\")).first()[0]\n",
    "average_rating"
   ]
  },
  {
   "cell_type": "code",
   "execution_count": 64,
   "metadata": {
    "collapsed": false
   },
   "outputs": [
    {
     "name": "stdout",
     "output_type": "stream",
     "text": [
      "+----+-------------------+\n",
      "|user|          user_bias|\n",
      "+----+-------------------+\n",
      "| 148| 1.2318646360749423|\n",
      "| 463|-2.7681353639250577|\n",
      "| 471|-1.7681353639250577|\n",
      "| 496| 1.2318646360749423|\n",
      "| 833| 1.2318646360749423|\n",
      "+----+-------------------+\n",
      "only showing top 5 rows\n",
      "\n"
     ]
    }
   ],
   "source": [
    "# biases need to be determined again\n",
    "user_bias = train.groupBy(\"user\").agg((F.mean(\"rating\") - average_rating).alias(\"user_bias\"))\n",
    "user_bias.cache()\n",
    "item_bias = train.groupBy(\"item\").agg((F.mean(\"rating\") - average_rating).alias(\"item_bias\"))\n",
    "item_bias.cache()\n",
    "user_bias.show(5)"
   ]
  },
  {
   "cell_type": "code",
   "execution_count": 65,
   "metadata": {
    "collapsed": false
   },
   "outputs": [],
   "source": [
    "# insert new average and biases into pre- and post-processing functions\n",
    "subtract_mean_and_biases = partial(subtract_mean_and_biases, \n",
    "                                   user_bias=user_bias, \n",
    "                                   item_bias=item_bias, \n",
    "                                   mean=average_rating)\n",
    "\n",
    "add_mean_and_biases = partial(add_mean_and_biases, \n",
    "                              user_bias=user_bias, \n",
    "                              item_bias=item_bias, \n",
    "                              mean=average_rating)"
   ]
  },
  {
   "cell_type": "code",
   "execution_count": 66,
   "metadata": {
    "collapsed": false
   },
   "outputs": [
    {
     "data": {
      "text/plain": [
       "1.3473796568411562"
      ]
     },
     "execution_count": 66,
     "metadata": {},
     "output_type": "execute_result"
    }
   ],
   "source": [
    "test_pred = (test\n",
    " .join(user_bias, \"user\", how=\"left\")\n",
    " .join(item_bias, \"item\", how=\"left\")\n",
    " .na.fill(0.0, [\"user_bias\", \"item_bias\"])\n",
    " .select(\"user\", \"item\", \"rating\", \n",
    "         (F.lit(average_rating) + F.col(\"user_bias\") + F.col(\"item_bias\")).alias(\"prediction\"))\n",
    "    )\n",
    "\n",
    "rmse.evaluate(restrict_output(test_pred))"
   ]
  },
  {
   "cell_type": "code",
   "execution_count": 67,
   "metadata": {
    "collapsed": false
   },
   "outputs": [
    {
     "data": {
      "text/html": [
       "<div>\n",
       "<table border=\"1\" class=\"dataframe\">\n",
       "  <thead>\n",
       "    <tr style=\"text-align: right;\">\n",
       "      <th></th>\n",
       "      <th>maxIter</th>\n",
       "      <th>rank</th>\n",
       "      <th>regParam</th>\n",
       "      <th>rmse_test</th>\n",
       "      <th>rmse_train</th>\n",
       "    </tr>\n",
       "  </thead>\n",
       "  <tbody>\n",
       "    <tr>\n",
       "      <th>0</th>\n",
       "      <td>20</td>\n",
       "      <td>20</td>\n",
       "      <td>0.5</td>\n",
       "      <td>1.346675</td>\n",
       "      <td>0.863072</td>\n",
       "    </tr>\n",
       "  </tbody>\n",
       "</table>\n",
       "</div>"
      ],
      "text/plain": [
       "   maxIter  rank  regParam  rmse_test  rmse_train\n",
       "0       20    20       0.5   1.346675    0.863072"
      ]
     },
     "execution_count": 67,
     "metadata": {},
     "output_type": "execute_result"
    }
   ],
   "source": [
    "# parameter scan with new train-test-split\n",
    "parameters = dict(regParam=[0.5], rank=[20], maxIter=[20])\n",
    "\n",
    "preprocessing = [subtract_mean_and_biases]\n",
    "postprocessing = [fillna_zero, add_mean_and_biases, restrict_output]\n",
    "\n",
    "score = parameter_scan(ALS, parameters, pre=preprocessing, post=postprocessing, \n",
    "                       test=test, train=train)\n",
    "score"
   ]
  },
  {
   "cell_type": "markdown",
   "metadata": {},
   "source": [
    "## Untersuchung der Fehler der Vorhersagen"
   ]
  },
  {
   "cell_type": "markdown",
   "metadata": {},
   "source": [
    "Hier wollen wir die Fehler, die das Vorhersageverfahren macht, untersuchen. "
   ]
  },
  {
   "cell_type": "code",
   "execution_count": 68,
   "metadata": {
    "collapsed": false
   },
   "outputs": [],
   "source": [
    "# train ALS with optimal parameters\n",
    "als = ALS(regParam=0.25, rank=20, maxIter=20).fit(subtract_mean_and_biases(train))"
   ]
  },
  {
   "cell_type": "code",
   "execution_count": 69,
   "metadata": {
    "collapsed": true
   },
   "outputs": [],
   "source": [
    "pred_als = als.transform(test)"
   ]
  },
  {
   "cell_type": "markdown",
   "metadata": {},
   "source": [
    "### Verteilung der Korrekturen durch das ALS"
   ]
  },
  {
   "cell_type": "markdown",
   "metadata": {},
   "source": [
    "Zunächst schauen wir welche \"Korrekturen\" der ALS Teil des Verfahrens zusätzlich zu dem einfacheren Modell $\\mu + b_u + b_i$ macht. Wir gucken uns also nur den Output von $\\mathbf{Q}_u \\cdot \\mathbf{P}_i$ an. Die Verteilung dieser Korrekturen ist symmeterisch und um null zentriert. Die Korrekturen liegen im Bereich von -0.5 bis 0.5. \n",
    "\n",
    "Das mag vielleicht klein erscheinen. Beim MovieLens Datensatz ist dieser Bereich aber noch kleiner, hat aber einen deutlich stärkeren (positiven) Einfluss auf die Vorhersagequalität.\n",
    "\n",
    "Insgesammt sieht die Verteilung der Korrekturen OK aus."
   ]
  },
  {
   "cell_type": "code",
   "execution_count": 70,
   "metadata": {
    "collapsed": true
   },
   "outputs": [],
   "source": [
    "bins, counts = (pred_als\n",
    "                .select(\"prediction\")\n",
    "                .rdd.keys()\n",
    "                .histogram(list(np.linspace(-2,2,30))))"
   ]
  },
  {
   "cell_type": "code",
   "execution_count": 71,
   "metadata": {
    "collapsed": false
   },
   "outputs": [
    {
     "data": {
      "image/png": "[encoded data removed]",
      "text/plain": [
       "<matplotlib.figure.Figure at 0x7f93070c5518>"
      ]
     },
     "metadata": {},
     "output_type": "display_data"
    }
   ],
   "source": [
    "utils.plot_histogram(bins, counts, \"prediction of ALS\", seaborn=False, color=utils.purple)\n",
    "plt.savefig(\"plots/full_histogram_als_output.pdf\", bbox_inches=\"tight\")"
   ]
  },
  {
   "cell_type": "markdown",
   "metadata": {},
   "source": [
    "### Verteilung der vorhergesagten und realen Bewertungen"
   ]
  },
  {
   "cell_type": "code",
   "execution_count": 72,
   "metadata": {
    "collapsed": false
   },
   "outputs": [],
   "source": [
    "prediction = \\\n",
    "    restrict_output(\n",
    "        add_mean_and_biases(\n",
    "            fillna_zero(\n",
    "                als.transform(test)))).cache()"
   ]
  },
  {
   "cell_type": "code",
   "execution_count": 73,
   "metadata": {
    "collapsed": true
   },
   "outputs": [],
   "source": [
    "prediction_bias_only = \\\n",
    "    restrict_output(\n",
    "        add_mean_and_biases(\n",
    "            fillna_zero(\n",
    "                test.withColumn(\"prediction\", F.lit(0))))).cache()"
   ]
  },
  {
   "cell_type": "code",
   "execution_count": 74,
   "metadata": {
    "collapsed": true
   },
   "outputs": [],
   "source": [
    "bins = [1,2,3,4,5,6]\n",
    "bins1, count1 = prediction.select(\"prediction\").rdd.keys().histogram(bins)\n",
    "bins2, count2 = prediction_bias_only.select(\"prediction\").rdd.keys().histogram(bins)\n",
    "bins3, count3 = prediction.select(\"rating\").rdd.keys().histogram(bins)"
   ]
  },
  {
   "cell_type": "code",
   "execution_count": 75,
   "metadata": {
    "collapsed": false
   },
   "outputs": [
    {
     "data": {
      "image/png": "[encoded data removed]",
      "text/plain": [
       "<matplotlib.figure.Figure at 0x7f930fdab710>"
      ]
     },
     "metadata": {},
     "output_type": "display_data"
    }
   ],
   "source": [
    "f, axs = plt.subplots(1,3,sharey=True, figsize=(10,3))\n",
    "plt.sca(axs[0])\n",
    "utils.plot_histogram(bins1, count1, \"predicted rating (full model)\", color=utils.purple)\n",
    "plt.sca(axs[1])\n",
    "utils.plot_histogram(bins2, count2, \"predicted rating (biases only)\", color=utils.blue)\n",
    "plt.sca(axs[2])\n",
    "utils.plot_histogram(bins3, count3, \"true rating\", color=utils.green)\n",
    "plt.savefig(\"plots/full_histogram_rating_pred_and_true.pdf\", bbox_inches=\"tight\")"
   ]
  },
  {
   "cell_type": "markdown",
   "metadata": {},
   "source": [
    "Die obigen drei Plots zeigen die Verteilung der Bewertungen für das volle Modell ($\\mu + b_u + b_i + \\mathbf{Q}_u \\cdot \\mathbf{P}_i$), das rein auf Bias-Vektoren basierende Modell ($\\mu + b_u + b_i$) und die tatsächlichen Bewertungen.\n",
    "\n",
    "Die ersten beiden Verteilung sind praktisch gleich. Das heißt, die ALS Komponente hat (zumindest) auf diese Eigenschaft der Vorhersagen keinen Einfluss.\n",
    "\n",
    "Wir sehen, dass die Verteilung des Vorhergesagten Bewertungen stark von der Verteilung der realen Ratings abweicht. Die reale Verteilung ist stark zu dem Wert 5 verschoben. Die vorhergesagten Verteilungen sind eher um dem Mittelwert $\\mu$ zentriert.\n",
    "\n",
    "Diese Beobachtung mag für das Modell $\\mu + b_u + b_i$ nicht ganz überraschend sein. Es basiert ja auf dem Mittelwert und den bedingten Mittelwerten.\n",
    "\n",
    "Es ist aber sehr verwunderlich, dass die ALS Komponente es scheinbar nicht schafft hier eine Verbesserunge zu schaffen."
   ]
  },
  {
   "cell_type": "markdown",
   "metadata": {},
   "source": [
    "### Verteilung des Fehler des Vorhersagen"
   ]
  },
  {
   "cell_type": "code",
   "execution_count": 76,
   "metadata": {
    "collapsed": true
   },
   "outputs": [],
   "source": [
    "bins = list(range(-5,7))\n",
    "bins1, count1 = prediction.select(F.col(\"prediction\")-F.col(\"rating\")).rdd.keys().histogram(bins)\n",
    "bins2, count2 = prediction_bias_only.select(F.col(\"prediction\")-F.col(\"rating\")).rdd.keys().histogram(bins)"
   ]
  },
  {
   "cell_type": "code",
   "execution_count": 77,
   "metadata": {
    "collapsed": false
   },
   "outputs": [
    {
     "data": {
      "image/png": "[encoded data removed]",
      "text/plain": [
       "<matplotlib.figure.Figure at 0x7f93070656d8>"
      ]
     },
     "metadata": {},
     "output_type": "display_data"
    }
   ],
   "source": [
    "f, axs = plt.subplots(1,2,sharey=True, figsize=(7,3))\n",
    "plt.sca(axs[0])\n",
    "utils.plot_histogram(bins1, count1, \"prediction-rating (full model)\", color=utils.purple)\n",
    "plt.sca(axs[1])\n",
    "utils.plot_histogram(bins2, count2, \"prediction-rating (biases only)\", color=utils.blue)\n",
    "plt.savefig(\"plots/full_histogram_pred_error.pdf\", bbox_inches=\"tight\")"
   ]
  },
  {
   "cell_type": "markdown",
   "metadata": {},
   "source": [
    "## Untersuchung der Vektoren $Q$ und $P$"
   ]
  },
  {
   "cell_type": "markdown",
   "metadata": {},
   "source": [
    "Hier sollen die gelernten Vektoren $\\mathbf{Q}_u$ und $\\mathbf{P}_i$ untersucht werden."
   ]
  },
  {
   "cell_type": "code",
   "execution_count": 78,
   "metadata": {
    "collapsed": false
   },
   "outputs": [],
   "source": [
    "vector_lengths_user = als.itemFactors.rdd.map(lambda r: np.sqrt(np.dot(r[1],r[1]))).collect()\n",
    "vector_lengths_item = als.userFactors.rdd.map(lambda r: np.sqrt(np.dot(r[1],r[1]))).collect()"
   ]
  },
  {
   "cell_type": "markdown",
   "metadata": {},
   "source": [
    "### Verteilung der Längen der Vektoren"
   ]
  },
  {
   "cell_type": "code",
   "execution_count": 79,
   "metadata": {
    "collapsed": false
   },
   "outputs": [
    {
     "data": {
      "image/png": "[encoded data removed]",
      "text/plain": [
       "<matplotlib.figure.Figure at 0x7f9306cde160>"
      ]
     },
     "metadata": {},
     "output_type": "display_data"
    }
   ],
   "source": [
    "f, axs = plt.subplots(1,2,sharey=True, figsize=(7,3))\n",
    "plt.sca(axs[0])\n",
    "counts, bins = plt.histogram(vector_lengths_item)\n",
    "utils.plot_histogram(bins, counts, \"norm of item vector\", seaborn=False, color=utils.purple)\n",
    "plt.sca(axs[1])\n",
    "counts, bins = plt.histogram(vector_lengths_user)\n",
    "utils.plot_histogram(bins, counts, \"norm of user vector\", seaborn=False, color=utils.green)"
   ]
  },
  {
   "cell_type": "markdown",
   "metadata": {},
   "source": [
    "## Empfehlungen erstellen"
   ]
  },
  {
   "cell_type": "markdown",
   "metadata": {},
   "source": [
    "Das bisher trainierte Verfahren macht Vorhersagen für die Bewertugen von Items, die der User noch nicht bewertet hat. Das Verfahren erlaubt es die komplete Matrix $R_{ui}$ zu bestimmen.\n",
    "\n",
    "Daraus müssen jedoch Empfehlungen erst abgeleitet werden. Um die Empfehlungen für User $u$ zu berechnen verfahren wir wie folgt:\n",
    "\n",
    "1. Berechnen der Bewertungen $R_{ui}$ für **bisher nicht bewertete** Items, d.h. $u,i\\notin K$\n",
    "2. Sortierung von $R_{ui}$ bezüglich $i$ in absteigender Reihenfolge ($u$ ist fest)\n",
    "3. Die Items mit den 5 höchsten Bewertungen werden empfohlen\n",
    "\n",
    "Dieses Vorgehen wird in der Funktion \"get_suggestions\" umgesetzt. Sie berechnet die Empfehlungen gleichzeitig für eine gewisse Menge von Usern. Dies ist deutlich schneller als die Berechnung für jeden User einzeln durchzuführen (Benchmarks hier nicht gezeigt). Diese Menge darf aber nicht zu groß sein, da der Teil der Matrix $R_{ui}$ die berechnet wird zu groß wird und nicht in den Arbeitsspeicher passt.\n",
    "\n",
    "Die Berechnung für 100 User dauert 28 Sekunden. Für die gesamte Anzahl der User (686.556) würde das 2,2 Tage dauern.\n",
    "\n",
    "Zusätlich zum hier implementierten Vorgehen, wäre es sicherlich nützlich den Nutzern nur Geschäfte in ihrer Nähe zu empfehlen. Dazu würde die Items vorher nach der Entfernung zur Geo-Position des Nutzers filtern (im Yelp Datensatz sind die Geo-Positionen der Geschäfte angegeben). Falls die Geo-Position des Nutzers nicht direkt bekannt ist, könnte man statt dessen die Geo-Position des zuletzt durch den Nutzer bewerteten Geschäfts nehmen."
   ]
  },
  {
   "cell_type": "markdown",
   "metadata": {},
   "source": [
    "### Finales Modell auf dem gesamten Datensatz trainieren"
   ]
  },
  {
   "cell_type": "code",
   "execution_count": 80,
   "metadata": {
    "collapsed": false
   },
   "outputs": [],
   "source": [
    "# fit final model on the complete data set\n",
    "\n",
    "# mean\n",
    "average_rating = review_df.agg(F.mean(\"rating\")).first()[0]\n",
    "\n",
    "# bias vectors\n",
    "user_bias = review_df.groupBy(\"user\").agg((F.mean(\"rating\") - average_rating).alias(\"user_bias\"))\n",
    "user_bias.cache()\n",
    "item_bias = review_df.groupBy(\"item\").agg((F.mean(\"rating\") - average_rating).alias(\"item_bias\"))\n",
    "item_bias.cache()\n",
    "\n",
    "# insert new average and biases into pre- and post-processing functions\n",
    "subtract_mean_and_biases = partial(subtract_mean_and_biases, \n",
    "                                   user_bias=user_bias, \n",
    "                                   item_bias=item_bias, \n",
    "                                   mean=average_rating)\n",
    "\n",
    "add_mean_and_biases = partial(add_mean_and_biases, \n",
    "                              user_bias=user_bias, \n",
    "                              item_bias=item_bias, \n",
    "                              mean=average_rating)\n",
    "\n",
    "# fit ALS\n",
    "final_model_als = ALS(rank=10, regParam=0.25, maxIter=10).fit(subtract_mean_and_biases(review_df))"
   ]
  },
  {
   "cell_type": "markdown",
   "metadata": {},
   "source": [
    "### Empfehlungen berechnen"
   ]
  },
  {
   "cell_type": "code",
   "execution_count": 81,
   "metadata": {
    "collapsed": false
   },
   "outputs": [],
   "source": [
    "users = review_df.select(\"user\").distinct().orderBy(\"user\").collect()\n",
    "users = list(map(lambda r: r[0], users))\n",
    "items = review_df.select(\"item\").distinct().cache()"
   ]
  },
  {
   "cell_type": "code",
   "execution_count": 82,
   "metadata": {
    "collapsed": false
   },
   "outputs": [],
   "source": [
    "def get_suggestions(previous_ratings, make_prediction, items, users):\n",
    "    assert len(users) * items.count() < 10**7\n",
    "    \n",
    "    #convert users list to a DataFrame\n",
    "    users_ = [(u,) for u in users]\n",
    "    users_ = sqlc.createDataFrame(users_, [\"user\"])\n",
    "    \n",
    "    #cartesian product\n",
    "    pairs = items.join(users_)\n",
    "    \n",
    "    #subtract items which have been rated already\n",
    "    previous_ratings = previous_ratings.filter(F.col(\"user\").isin(users))\n",
    "    pairs = pairs.subtract(previous_ratings.select(\"user\", \"item\"))\n",
    "    \n",
    "    prediction = make_prediction(pairs)\n",
    "    \n",
    "    #extract 5 items per user with the highest predicted rating\n",
    "    window = Window.partitionBy(\"user\").orderBy(F.col(\"prediction\").desc())\n",
    "    suggestions = (prediction\n",
    "                  .withColumn(\"rank\", F.rank().over(window))\n",
    "                  .filter(F.col(\"rank\")<=5))\n",
    "    \n",
    "    return suggestions"
   ]
  },
  {
   "cell_type": "markdown",
   "metadata": {},
   "source": [
    "Das Andwenden der Funktion restrict_output wird an dieser Stelle bewusst weggelassen. So behält man die Ordnung der Items die das Verfahren vorschlägt bei, z.B. wird eine vorhergesagte Bewertung von 6 als höher-rangig bewertet als eine Bewertung von 5."
   ]
  },
  {
   "cell_type": "code",
   "execution_count": 83,
   "metadata": {
    "collapsed": true
   },
   "outputs": [],
   "source": [
    "def make_prediction(df):\n",
    "    prediction = \\\n",
    "            add_mean_and_biases(\n",
    "                fillna_zero(\n",
    "                    final_model_als.transform(df))).cache()\n",
    "    return prediction"
   ]
  },
  {
   "cell_type": "code",
   "execution_count": 84,
   "metadata": {
    "collapsed": false
   },
   "outputs": [
    {
     "name": "stdout",
     "output_type": "stream",
     "text": [
      "+-----+----+------------------+-------------------+------------------+----+\n",
      "| item|user|        prediction|          user_bias|         item_bias|rank|\n",
      "+-----+----+------------------+-------------------+------------------+----+\n",
      "|73359|  26| 6.663630846365502| 1.2320018442712324|1.2320018442712324|   1|\n",
      "|51086|  26| 6.659754994734337| 1.2320018442712324|1.2320018442712324|   2|\n",
      "|69191|  26| 6.644105974062493| 1.2320018442712324|1.2320018442712324|   3|\n",
      "|49234|  26| 6.642503354176094| 1.2320018442712324|1.2320018442712324|   4|\n",
      "|21423|  26| 6.631748172863533| 1.2320018442712324|1.2320018442712324|   5|\n",
      "|31045|  29| 5.787264224447353|0.12089073316012122|1.2320018442712324|   1|\n",
      "|79081|  29|5.6779381002560685|0.12089073316012122|1.2320018442712324|   2|\n",
      "|81147|  29| 5.661483582414729|0.12089073316012122|1.2320018442712324|   3|\n",
      "|21860|  29|5.6570287908688615|0.12089073316012122|1.2320018442712324|   4|\n",
      "|28510|  29| 5.631816324152095|0.12089073316012122|1.2320018442712324|   5|\n",
      "+-----+----+------------------+-------------------+------------------+----+\n",
      "only showing top 10 rows\n",
      "\n",
      "CPU times: user 216 ms, sys: 100 ms, total: 316 ms\n",
      "Wall time: 28.4 s\n"
     ]
    }
   ],
   "source": [
    "%%time\n",
    "n_users_suggest = 100\n",
    "suggestions = get_suggestions(\n",
    "    review_df, \n",
    "    make_prediction, \n",
    "    items, \n",
    "    [users[i] for i in range(n_users_suggest)])\n",
    "\n",
    "suggestions.show(10)"
   ]
  },
  {
   "cell_type": "markdown",
   "metadata": {
    "collapsed": true
   },
   "source": [
    "## Gesamte Laufzeit des Notebooks"
   ]
  },
  {
   "cell_type": "code",
   "execution_count": 85,
   "metadata": {
    "collapsed": false
   },
   "outputs": [
    {
     "name": "stdout",
     "output_type": "stream",
     "text": [
      "2.4 hours\n"
     ]
    }
   ],
   "source": [
    "print(\"{:.1f} hours\".format((time.time() - start_time)/3600))"
   ]
  },
  {
   "cell_type": "markdown",
   "metadata": {},
   "source": [
    "Das Notebook wurde auf einem VPS von Digital Ocean ausgeführt, dieser hat 8 (virtuelle) Cores und 16 GB RAM."
   ]
  }
 ],
 "metadata": {
  "kernelspec": {
   "display_name": "Python 3",
   "language": "python",
   "name": "python3"
  },
  "language_info": {
   "codemirror_mode": {
    "name": "ipython",
    "version": 3
   },
   "file_extension": ".py",
   "mimetype": "text/x-python",
   "name": "python",
   "nbconvert_exporter": "python",
   "pygments_lexer": "ipython3",
   "version": "3.5.2"
  }
 },
 "nbformat": 4,
 "nbformat_minor": 1
}
